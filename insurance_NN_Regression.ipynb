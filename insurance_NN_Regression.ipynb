{
 "cells": [
  {
   "cell_type": "code",
   "execution_count": 19,
   "id": "initial_id",
   "metadata": {
    "collapsed": true,
    "ExecuteTime": {
     "end_time": "2023-12-31T05:58:38.536808600Z",
     "start_time": "2023-12-31T05:58:38.514836Z"
    }
   },
   "outputs": [],
   "source": [
    "import tensorflow as tf\n",
    "import pandas as pd\n",
    "import numpy as np\n",
    "import matplotlib.pyplot as plt \n",
    "from sklearn.model_selection import train_test_split"
   ]
  },
  {
   "cell_type": "code",
   "execution_count": 20,
   "outputs": [
    {
     "data": {
      "text/plain": "      age     sex     bmi  children smoker     region      charges\n0      19  female  27.900         0    yes  southwest  16884.92400\n1      18    male  33.770         1     no  southeast   1725.55230\n2      28    male  33.000         3     no  southeast   4449.46200\n3      33    male  22.705         0     no  northwest  21984.47061\n4      32    male  28.880         0     no  northwest   3866.85520\n...   ...     ...     ...       ...    ...        ...          ...\n1333   50    male  30.970         3     no  northwest  10600.54830\n1334   18  female  31.920         0     no  northeast   2205.98080\n1335   18  female  36.850         0     no  southeast   1629.83350\n1336   21  female  25.800         0     no  southwest   2007.94500\n1337   61  female  29.070         0    yes  northwest  29141.36030\n\n[1338 rows x 7 columns]",
      "text/html": "<div>\n<style scoped>\n    .dataframe tbody tr th:only-of-type {\n        vertical-align: middle;\n    }\n\n    .dataframe tbody tr th {\n        vertical-align: top;\n    }\n\n    .dataframe thead th {\n        text-align: right;\n    }\n</style>\n<table border=\"1\" class=\"dataframe\">\n  <thead>\n    <tr style=\"text-align: right;\">\n      <th></th>\n      <th>age</th>\n      <th>sex</th>\n      <th>bmi</th>\n      <th>children</th>\n      <th>smoker</th>\n      <th>region</th>\n      <th>charges</th>\n    </tr>\n  </thead>\n  <tbody>\n    <tr>\n      <th>0</th>\n      <td>19</td>\n      <td>female</td>\n      <td>27.900</td>\n      <td>0</td>\n      <td>yes</td>\n      <td>southwest</td>\n      <td>16884.92400</td>\n    </tr>\n    <tr>\n      <th>1</th>\n      <td>18</td>\n      <td>male</td>\n      <td>33.770</td>\n      <td>1</td>\n      <td>no</td>\n      <td>southeast</td>\n      <td>1725.55230</td>\n    </tr>\n    <tr>\n      <th>2</th>\n      <td>28</td>\n      <td>male</td>\n      <td>33.000</td>\n      <td>3</td>\n      <td>no</td>\n      <td>southeast</td>\n      <td>4449.46200</td>\n    </tr>\n    <tr>\n      <th>3</th>\n      <td>33</td>\n      <td>male</td>\n      <td>22.705</td>\n      <td>0</td>\n      <td>no</td>\n      <td>northwest</td>\n      <td>21984.47061</td>\n    </tr>\n    <tr>\n      <th>4</th>\n      <td>32</td>\n      <td>male</td>\n      <td>28.880</td>\n      <td>0</td>\n      <td>no</td>\n      <td>northwest</td>\n      <td>3866.85520</td>\n    </tr>\n    <tr>\n      <th>...</th>\n      <td>...</td>\n      <td>...</td>\n      <td>...</td>\n      <td>...</td>\n      <td>...</td>\n      <td>...</td>\n      <td>...</td>\n    </tr>\n    <tr>\n      <th>1333</th>\n      <td>50</td>\n      <td>male</td>\n      <td>30.970</td>\n      <td>3</td>\n      <td>no</td>\n      <td>northwest</td>\n      <td>10600.54830</td>\n    </tr>\n    <tr>\n      <th>1334</th>\n      <td>18</td>\n      <td>female</td>\n      <td>31.920</td>\n      <td>0</td>\n      <td>no</td>\n      <td>northeast</td>\n      <td>2205.98080</td>\n    </tr>\n    <tr>\n      <th>1335</th>\n      <td>18</td>\n      <td>female</td>\n      <td>36.850</td>\n      <td>0</td>\n      <td>no</td>\n      <td>southeast</td>\n      <td>1629.83350</td>\n    </tr>\n    <tr>\n      <th>1336</th>\n      <td>21</td>\n      <td>female</td>\n      <td>25.800</td>\n      <td>0</td>\n      <td>no</td>\n      <td>southwest</td>\n      <td>2007.94500</td>\n    </tr>\n    <tr>\n      <th>1337</th>\n      <td>61</td>\n      <td>female</td>\n      <td>29.070</td>\n      <td>0</td>\n      <td>yes</td>\n      <td>northwest</td>\n      <td>29141.36030</td>\n    </tr>\n  </tbody>\n</table>\n<p>1338 rows × 7 columns</p>\n</div>"
     },
     "execution_count": 20,
     "metadata": {},
     "output_type": "execute_result"
    }
   ],
   "source": [
    "df = pd.read_csv(\"Datasets/insurance.csv\")\n",
    "df"
   ],
   "metadata": {
    "collapsed": false,
    "ExecuteTime": {
     "end_time": "2023-12-31T05:58:38.579834Z",
     "start_time": "2023-12-31T05:58:38.525969900Z"
    }
   },
   "id": "67acd344ec633e51"
  },
  {
   "cell_type": "code",
   "execution_count": 21,
   "outputs": [
    {
     "data": {
      "text/plain": "               age          bmi     children       charges\ncount  1338.000000  1338.000000  1338.000000   1338.000000\nmean     39.207025    30.663397     1.094918  13270.422265\nstd      14.049960     6.098187     1.205493  12110.011237\nmin      18.000000    15.960000     0.000000   1121.873900\n25%      27.000000    26.296250     0.000000   4740.287150\n50%      39.000000    30.400000     1.000000   9382.033000\n75%      51.000000    34.693750     2.000000  16639.912515\nmax      64.000000    53.130000     5.000000  63770.428010",
      "text/html": "<div>\n<style scoped>\n    .dataframe tbody tr th:only-of-type {\n        vertical-align: middle;\n    }\n\n    .dataframe tbody tr th {\n        vertical-align: top;\n    }\n\n    .dataframe thead th {\n        text-align: right;\n    }\n</style>\n<table border=\"1\" class=\"dataframe\">\n  <thead>\n    <tr style=\"text-align: right;\">\n      <th></th>\n      <th>age</th>\n      <th>bmi</th>\n      <th>children</th>\n      <th>charges</th>\n    </tr>\n  </thead>\n  <tbody>\n    <tr>\n      <th>count</th>\n      <td>1338.000000</td>\n      <td>1338.000000</td>\n      <td>1338.000000</td>\n      <td>1338.000000</td>\n    </tr>\n    <tr>\n      <th>mean</th>\n      <td>39.207025</td>\n      <td>30.663397</td>\n      <td>1.094918</td>\n      <td>13270.422265</td>\n    </tr>\n    <tr>\n      <th>std</th>\n      <td>14.049960</td>\n      <td>6.098187</td>\n      <td>1.205493</td>\n      <td>12110.011237</td>\n    </tr>\n    <tr>\n      <th>min</th>\n      <td>18.000000</td>\n      <td>15.960000</td>\n      <td>0.000000</td>\n      <td>1121.873900</td>\n    </tr>\n    <tr>\n      <th>25%</th>\n      <td>27.000000</td>\n      <td>26.296250</td>\n      <td>0.000000</td>\n      <td>4740.287150</td>\n    </tr>\n    <tr>\n      <th>50%</th>\n      <td>39.000000</td>\n      <td>30.400000</td>\n      <td>1.000000</td>\n      <td>9382.033000</td>\n    </tr>\n    <tr>\n      <th>75%</th>\n      <td>51.000000</td>\n      <td>34.693750</td>\n      <td>2.000000</td>\n      <td>16639.912515</td>\n    </tr>\n    <tr>\n      <th>max</th>\n      <td>64.000000</td>\n      <td>53.130000</td>\n      <td>5.000000</td>\n      <td>63770.428010</td>\n    </tr>\n  </tbody>\n</table>\n</div>"
     },
     "execution_count": 21,
     "metadata": {},
     "output_type": "execute_result"
    }
   ],
   "source": [
    "df.describe()"
   ],
   "metadata": {
    "collapsed": false,
    "ExecuteTime": {
     "end_time": "2023-12-31T05:58:38.604170400Z",
     "start_time": "2023-12-31T05:58:38.541747900Z"
    }
   },
   "id": "d36eb21b813c5e85"
  },
  {
   "cell_type": "code",
   "execution_count": 22,
   "outputs": [
    {
     "data": {
      "text/plain": "array(['southwest', 'southeast', 'northwest', 'northeast'], dtype=object)"
     },
     "execution_count": 22,
     "metadata": {},
     "output_type": "execute_result"
    }
   ],
   "source": [
    "df[\"region\"].unique()"
   ],
   "metadata": {
    "collapsed": false,
    "ExecuteTime": {
     "end_time": "2023-12-31T05:58:38.605494Z",
     "start_time": "2023-12-31T05:58:38.556702600Z"
    }
   },
   "id": "b146d3df47a15705"
  },
  {
   "cell_type": "code",
   "execution_count": 23,
   "outputs": [],
   "source": [
    "#df_one_hot_encoded = pd.get_dummies(df)"
   ],
   "metadata": {
    "collapsed": false,
    "ExecuteTime": {
     "end_time": "2023-12-31T05:58:38.642561600Z",
     "start_time": "2023-12-31T05:58:38.573429900Z"
    }
   },
   "id": "b908f5106dfda4ee"
  },
  {
   "cell_type": "code",
   "execution_count": 24,
   "outputs": [],
   "source": [
    "#X = df_one_hot_encoded.drop([\"charges\"], axis=1)\n",
    "#y = df_one_hot_encoded[\"charges\"]"
   ],
   "metadata": {
    "collapsed": false,
    "ExecuteTime": {
     "end_time": "2023-12-31T05:58:38.694535800Z",
     "start_time": "2023-12-31T05:58:38.589113300Z"
    }
   },
   "id": "13ba95f7295eb968"
  },
  {
   "cell_type": "code",
   "execution_count": 45,
   "outputs": [],
   "source": [
    "from sklearn.compose import make_column_transformer\n",
    "from sklearn.preprocessing import OneHotEncoder, StandardScaler, MinMaxScaler\n",
    "\n",
    "CT = make_column_transformer(\n",
    "    (MinMaxScaler(), [\"age\", \"bmi\", \"children\"]),\n",
    "    (OneHotEncoder(handle_unknown=\"ignore\"), [\"sex\", \"smoker\", \"region\"])\n",
    ")\n",
    "\n",
    "X = df.drop([\"charges\"], axis=1)\n",
    "y = df[\"charges\"]\n",
    "\n",
    "X_train, X_test, y_train, y_test = train_test_split(X, y, test_size=0.2, random_state=69)\n",
    "\n",
    "CT.fit(X_train)\n",
    "\n",
    "X_train_normal = CT.transform(X_train)\n",
    "X_test_normal = CT.transform(X_test)"
   ],
   "metadata": {
    "collapsed": false,
    "ExecuteTime": {
     "end_time": "2023-12-31T06:09:40.377954600Z",
     "start_time": "2023-12-31T06:09:40.357335600Z"
    }
   },
   "id": "c8e732d063d2e76"
  },
  {
   "cell_type": "code",
   "execution_count": 42,
   "outputs": [
    {
     "data": {
      "text/plain": "array([[0.26086957, 0.22706484, 0.6       , ..., 0.        , 0.        ,\n        1.        ],\n       [0.91304348, 0.45305354, 0.        , ..., 0.        , 0.        ,\n        1.        ],\n       [0.26086957, 0.3220339 , 0.        , ..., 0.        , 0.        ,\n        0.        ],\n       ...,\n       [0.06521739, 0.28087167, 0.2       , ..., 0.        , 0.        ,\n        1.        ],\n       [0.08695652, 0.3322572 , 0.2       , ..., 1.        , 0.        ,\n        0.        ],\n       [0.04347826, 0.39615281, 0.        , ..., 0.        , 0.        ,\n        0.        ]])"
     },
     "execution_count": 42,
     "metadata": {},
     "output_type": "execute_result"
    }
   ],
   "source": [
    "X_test_normal"
   ],
   "metadata": {
    "collapsed": false,
    "ExecuteTime": {
     "end_time": "2023-12-31T06:08:19.800528600Z",
     "start_time": "2023-12-31T06:08:19.787520Z"
    }
   },
   "id": "3976684ed3664fe8"
  },
  {
   "cell_type": "code",
   "execution_count": 54,
   "outputs": [
    {
     "name": "stderr",
     "output_type": "stream",
     "text": [
      "C:\\Users\\aksha\\PycharmProjects\\TF\\venv\\lib\\site-packages\\keras\\optimizers\\optimizer_v2\\adam.py:114: UserWarning: The `lr` argument is deprecated, use `learning_rate` instead.\n",
      "  super().__init__(name, **kwargs)\n"
     ]
    },
    {
     "name": "stdout",
     "output_type": "stream",
     "text": [
      "Epoch 1/200\n",
      "34/34 [==============================] - 0s 3ms/step - loss: 304477248.0000 - mae: 12853.0898\n",
      "Epoch 2/200\n",
      "34/34 [==============================] - 0s 3ms/step - loss: 302666080.0000 - mae: 12782.3516\n",
      "Epoch 3/200\n",
      "34/34 [==============================] - 0s 3ms/step - loss: 300916000.0000 - mae: 12714.6553\n",
      "Epoch 4/200\n",
      "34/34 [==============================] - 0s 3ms/step - loss: 299192288.0000 - mae: 12646.7080\n",
      "Epoch 5/200\n",
      "34/34 [==============================] - 0s 2ms/step - loss: 297496928.0000 - mae: 12579.1367\n",
      "Epoch 6/200\n",
      "34/34 [==============================] - 0s 2ms/step - loss: 295812896.0000 - mae: 12512.5273\n",
      "Epoch 7/200\n",
      "34/34 [==============================] - 0s 2ms/step - loss: 294148704.0000 - mae: 12445.1475\n",
      "Epoch 8/200\n",
      "34/34 [==============================] - 0s 2ms/step - loss: 292500608.0000 - mae: 12378.2100\n",
      "Epoch 9/200\n",
      "34/34 [==============================] - 0s 2ms/step - loss: 290861568.0000 - mae: 12312.7881\n",
      "Epoch 10/200\n",
      "34/34 [==============================] - 0s 2ms/step - loss: 289257312.0000 - mae: 12246.5215\n",
      "Epoch 11/200\n",
      "34/34 [==============================] - 0s 2ms/step - loss: 287652192.0000 - mae: 12182.1699\n",
      "Epoch 12/200\n",
      "34/34 [==============================] - 0s 2ms/step - loss: 286075200.0000 - mae: 12116.7842\n",
      "Epoch 13/200\n",
      "34/34 [==============================] - 0s 2ms/step - loss: 284487072.0000 - mae: 12052.0381\n",
      "Epoch 14/200\n",
      "34/34 [==============================] - 0s 3ms/step - loss: 282919232.0000 - mae: 11986.3701\n",
      "Epoch 15/200\n",
      "34/34 [==============================] - 0s 2ms/step - loss: 281352992.0000 - mae: 11920.9424\n",
      "Epoch 16/200\n",
      "34/34 [==============================] - 0s 2ms/step - loss: 279808672.0000 - mae: 11855.6602\n",
      "Epoch 17/200\n",
      "34/34 [==============================] - 0s 2ms/step - loss: 278286816.0000 - mae: 11790.7051\n",
      "Epoch 18/200\n",
      "34/34 [==============================] - 0s 2ms/step - loss: 276774368.0000 - mae: 11726.4053\n",
      "Epoch 19/200\n",
      "34/34 [==============================] - 0s 2ms/step - loss: 275277280.0000 - mae: 11664.0107\n",
      "Epoch 20/200\n",
      "34/34 [==============================] - 0s 2ms/step - loss: 273777088.0000 - mae: 11601.7939\n",
      "Epoch 21/200\n",
      "34/34 [==============================] - 0s 2ms/step - loss: 272291744.0000 - mae: 11539.4082\n",
      "Epoch 22/200\n",
      "34/34 [==============================] - 0s 2ms/step - loss: 270813632.0000 - mae: 11476.4961\n",
      "Epoch 23/200\n",
      "34/34 [==============================] - 0s 3ms/step - loss: 269347456.0000 - mae: 11413.6445\n",
      "Epoch 24/200\n",
      "34/34 [==============================] - 0s 3ms/step - loss: 267895360.0000 - mae: 11351.9072\n",
      "Epoch 25/200\n",
      "34/34 [==============================] - 0s 2ms/step - loss: 266460192.0000 - mae: 11290.8701\n",
      "Epoch 26/200\n",
      "34/34 [==============================] - 0s 2ms/step - loss: 265043808.0000 - mae: 11230.2285\n",
      "Epoch 27/200\n",
      "34/34 [==============================] - 0s 2ms/step - loss: 263630960.0000 - mae: 11172.6377\n",
      "Epoch 28/200\n",
      "34/34 [==============================] - 0s 2ms/step - loss: 262236704.0000 - mae: 11114.7500\n",
      "Epoch 29/200\n",
      "34/34 [==============================] - 0s 2ms/step - loss: 260842128.0000 - mae: 11059.3154\n",
      "Epoch 30/200\n",
      "34/34 [==============================] - 0s 2ms/step - loss: 259459472.0000 - mae: 11004.7773\n",
      "Epoch 31/200\n",
      "34/34 [==============================] - 0s 2ms/step - loss: 258106608.0000 - mae: 10949.5684\n",
      "Epoch 32/200\n",
      "34/34 [==============================] - 0s 2ms/step - loss: 256741600.0000 - mae: 10896.0723\n",
      "Epoch 33/200\n",
      "34/34 [==============================] - 0s 2ms/step - loss: 255403760.0000 - mae: 10842.4785\n",
      "Epoch 34/200\n",
      "34/34 [==============================] - 0s 2ms/step - loss: 254057808.0000 - mae: 10789.5977\n",
      "Epoch 35/200\n",
      "34/34 [==============================] - 0s 2ms/step - loss: 252735536.0000 - mae: 10738.5254\n",
      "Epoch 36/200\n",
      "34/34 [==============================] - 0s 2ms/step - loss: 251407184.0000 - mae: 10688.5537\n",
      "Epoch 37/200\n",
      "34/34 [==============================] - 0s 2ms/step - loss: 250110464.0000 - mae: 10639.0391\n",
      "Epoch 38/200\n",
      "34/34 [==============================] - 0s 2ms/step - loss: 248818912.0000 - mae: 10589.7051\n",
      "Epoch 39/200\n",
      "34/34 [==============================] - 0s 2ms/step - loss: 247541568.0000 - mae: 10541.8750\n",
      "Epoch 40/200\n",
      "34/34 [==============================] - 0s 2ms/step - loss: 246273376.0000 - mae: 10494.4502\n",
      "Epoch 41/200\n",
      "34/34 [==============================] - 0s 2ms/step - loss: 245006800.0000 - mae: 10447.5596\n",
      "Epoch 42/200\n",
      "34/34 [==============================] - 0s 2ms/step - loss: 243765184.0000 - mae: 10401.2598\n",
      "Epoch 43/200\n",
      "34/34 [==============================] - 0s 2ms/step - loss: 242512624.0000 - mae: 10355.7051\n",
      "Epoch 44/200\n",
      "34/34 [==============================] - 0s 3ms/step - loss: 241293568.0000 - mae: 10310.4863\n",
      "Epoch 45/200\n",
      "34/34 [==============================] - 0s 2ms/step - loss: 240071840.0000 - mae: 10266.3281\n",
      "Epoch 46/200\n",
      "34/34 [==============================] - 0s 2ms/step - loss: 238868048.0000 - mae: 10222.6494\n",
      "Epoch 47/200\n",
      "34/34 [==============================] - 0s 2ms/step - loss: 237666512.0000 - mae: 10180.0615\n",
      "Epoch 48/200\n",
      "34/34 [==============================] - 0s 2ms/step - loss: 236481136.0000 - mae: 10137.5029\n",
      "Epoch 49/200\n",
      "34/34 [==============================] - 0s 2ms/step - loss: 235294368.0000 - mae: 10094.7998\n",
      "Epoch 50/200\n",
      "34/34 [==============================] - 0s 2ms/step - loss: 234134032.0000 - mae: 10052.3428\n",
      "Epoch 51/200\n",
      "34/34 [==============================] - 0s 2ms/step - loss: 232968064.0000 - mae: 10011.0879\n",
      "Epoch 52/200\n",
      "34/34 [==============================] - 0s 2ms/step - loss: 231815952.0000 - mae: 9970.9512\n",
      "Epoch 53/200\n",
      "34/34 [==============================] - 0s 2ms/step - loss: 230660880.0000 - mae: 9930.5771\n",
      "Epoch 54/200\n",
      "34/34 [==============================] - 0s 2ms/step - loss: 229523968.0000 - mae: 9889.6504\n",
      "Epoch 55/200\n",
      "34/34 [==============================] - 0s 2ms/step - loss: 228403104.0000 - mae: 9851.0244\n",
      "Epoch 56/200\n",
      "34/34 [==============================] - 0s 2ms/step - loss: 227288256.0000 - mae: 9811.6865\n",
      "Epoch 57/200\n",
      "34/34 [==============================] - 0s 2ms/step - loss: 226175552.0000 - mae: 9774.3428\n",
      "Epoch 58/200\n",
      "34/34 [==============================] - 0s 3ms/step - loss: 225088208.0000 - mae: 9736.1133\n",
      "Epoch 59/200\n",
      "34/34 [==============================] - 0s 3ms/step - loss: 223986560.0000 - mae: 9699.7412\n",
      "Epoch 60/200\n",
      "34/34 [==============================] - 0s 3ms/step - loss: 222925728.0000 - mae: 9662.2783\n",
      "Epoch 61/200\n",
      "34/34 [==============================] - 0s 2ms/step - loss: 221842944.0000 - mae: 9625.2090\n",
      "Epoch 62/200\n",
      "34/34 [==============================] - 0s 2ms/step - loss: 220789472.0000 - mae: 9590.1758\n",
      "Epoch 63/200\n",
      "34/34 [==============================] - 0s 2ms/step - loss: 219744672.0000 - mae: 9553.8555\n",
      "Epoch 64/200\n",
      "34/34 [==============================] - 0s 2ms/step - loss: 218698208.0000 - mae: 9519.3750\n",
      "Epoch 65/200\n",
      "34/34 [==============================] - 0s 2ms/step - loss: 217671312.0000 - mae: 9485.5107\n",
      "Epoch 66/200\n",
      "34/34 [==============================] - 0s 2ms/step - loss: 216636608.0000 - mae: 9451.3271\n",
      "Epoch 67/200\n",
      "34/34 [==============================] - 0s 2ms/step - loss: 215623008.0000 - mae: 9418.0283\n",
      "Epoch 68/200\n",
      "34/34 [==============================] - 0s 2ms/step - loss: 214615584.0000 - mae: 9384.1797\n",
      "Epoch 69/200\n",
      "34/34 [==============================] - 0s 2ms/step - loss: 213623344.0000 - mae: 9351.0508\n",
      "Epoch 70/200\n",
      "34/34 [==============================] - 0s 2ms/step - loss: 212629824.0000 - mae: 9318.4248\n",
      "Epoch 71/200\n",
      "34/34 [==============================] - 0s 2ms/step - loss: 211640288.0000 - mae: 9287.2686\n",
      "Epoch 72/200\n",
      "34/34 [==============================] - 0s 2ms/step - loss: 210670112.0000 - mae: 9255.8887\n",
      "Epoch 73/200\n",
      "34/34 [==============================] - 0s 2ms/step - loss: 209709280.0000 - mae: 9225.1572\n",
      "Epoch 74/200\n",
      "34/34 [==============================] - 0s 2ms/step - loss: 208757840.0000 - mae: 9195.9287\n",
      "Epoch 75/200\n",
      "34/34 [==============================] - 0s 2ms/step - loss: 207799552.0000 - mae: 9165.4014\n",
      "Epoch 76/200\n",
      "34/34 [==============================] - 0s 3ms/step - loss: 206858480.0000 - mae: 9136.4043\n",
      "Epoch 77/200\n",
      "34/34 [==============================] - 0s 3ms/step - loss: 205925824.0000 - mae: 9107.1738\n",
      "Epoch 78/200\n",
      "34/34 [==============================] - 0s 3ms/step - loss: 205002480.0000 - mae: 9079.4414\n",
      "Epoch 79/200\n",
      "34/34 [==============================] - 0s 2ms/step - loss: 204091408.0000 - mae: 9052.7188\n",
      "Epoch 80/200\n",
      "34/34 [==============================] - 0s 2ms/step - loss: 203191440.0000 - mae: 9025.8643\n",
      "Epoch 81/200\n",
      "34/34 [==============================] - 0s 2ms/step - loss: 202294288.0000 - mae: 8998.2832\n",
      "Epoch 82/200\n",
      "34/34 [==============================] - 0s 2ms/step - loss: 201395696.0000 - mae: 8972.5811\n",
      "Epoch 83/200\n",
      "34/34 [==============================] - 0s 3ms/step - loss: 200526720.0000 - mae: 8947.6064\n",
      "Epoch 84/200\n",
      "34/34 [==============================] - 0s 3ms/step - loss: 199659200.0000 - mae: 8922.3691\n",
      "Epoch 85/200\n",
      "34/34 [==============================] - 0s 3ms/step - loss: 198782448.0000 - mae: 8897.6025\n",
      "Epoch 86/200\n",
      "34/34 [==============================] - 0s 3ms/step - loss: 197930304.0000 - mae: 8873.0146\n",
      "Epoch 87/200\n",
      "34/34 [==============================] - 0s 2ms/step - loss: 197076592.0000 - mae: 8849.0518\n",
      "Epoch 88/200\n",
      "34/34 [==============================] - 0s 3ms/step - loss: 196241632.0000 - mae: 8825.1943\n",
      "Epoch 89/200\n",
      "34/34 [==============================] - 0s 2ms/step - loss: 195400688.0000 - mae: 8802.8369\n",
      "Epoch 90/200\n",
      "34/34 [==============================] - 0s 2ms/step - loss: 194586592.0000 - mae: 8781.1572\n",
      "Epoch 91/200\n",
      "34/34 [==============================] - 0s 2ms/step - loss: 193759040.0000 - mae: 8758.6318\n",
      "Epoch 92/200\n",
      "34/34 [==============================] - 0s 2ms/step - loss: 192958672.0000 - mae: 8737.4668\n",
      "Epoch 93/200\n",
      "34/34 [==============================] - 0s 2ms/step - loss: 192157920.0000 - mae: 8716.0518\n",
      "Epoch 94/200\n",
      "34/34 [==============================] - 0s 2ms/step - loss: 191365456.0000 - mae: 8694.3691\n",
      "Epoch 95/200\n",
      "34/34 [==============================] - 0s 3ms/step - loss: 190570304.0000 - mae: 8673.6016\n",
      "Epoch 96/200\n",
      "34/34 [==============================] - 0s 2ms/step - loss: 189783184.0000 - mae: 8652.3994\n",
      "Epoch 97/200\n",
      "34/34 [==============================] - 0s 2ms/step - loss: 189016032.0000 - mae: 8633.1152\n",
      "Epoch 98/200\n",
      "34/34 [==============================] - 0s 2ms/step - loss: 188262224.0000 - mae: 8613.1426\n",
      "Epoch 99/200\n",
      "34/34 [==============================] - 0s 2ms/step - loss: 187501008.0000 - mae: 8593.1729\n",
      "Epoch 100/200\n",
      "34/34 [==============================] - 0s 3ms/step - loss: 186756720.0000 - mae: 8574.0195\n",
      "Epoch 101/200\n",
      "34/34 [==============================] - 0s 3ms/step - loss: 186029072.0000 - mae: 8555.9541\n",
      "Epoch 102/200\n",
      "34/34 [==============================] - 0s 2ms/step - loss: 185300016.0000 - mae: 8537.2285\n",
      "Epoch 103/200\n",
      "34/34 [==============================] - 0s 2ms/step - loss: 184571968.0000 - mae: 8519.2832\n",
      "Epoch 104/200\n",
      "34/34 [==============================] - 0s 2ms/step - loss: 183853616.0000 - mae: 8500.7568\n",
      "Epoch 105/200\n",
      "34/34 [==============================] - 0s 2ms/step - loss: 183139312.0000 - mae: 8484.0400\n",
      "Epoch 106/200\n",
      "34/34 [==============================] - 0s 2ms/step - loss: 182423792.0000 - mae: 8467.0391\n",
      "Epoch 107/200\n",
      "34/34 [==============================] - 0s 2ms/step - loss: 181722672.0000 - mae: 8448.8154\n",
      "Epoch 108/200\n",
      "34/34 [==============================] - 0s 2ms/step - loss: 181036192.0000 - mae: 8433.7832\n",
      "Epoch 109/200\n",
      "34/34 [==============================] - 0s 2ms/step - loss: 180360736.0000 - mae: 8417.7617\n",
      "Epoch 110/200\n",
      "34/34 [==============================] - 0s 3ms/step - loss: 179676944.0000 - mae: 8402.6191\n",
      "Epoch 111/200\n",
      "34/34 [==============================] - 0s 2ms/step - loss: 179017456.0000 - mae: 8386.8721\n",
      "Epoch 112/200\n",
      "34/34 [==============================] - 0s 2ms/step - loss: 178359248.0000 - mae: 8372.9023\n",
      "Epoch 113/200\n",
      "34/34 [==============================] - 0s 3ms/step - loss: 177719632.0000 - mae: 8358.4180\n",
      "Epoch 114/200\n",
      "34/34 [==============================] - 0s 2ms/step - loss: 177060208.0000 - mae: 8345.0000\n",
      "Epoch 115/200\n",
      "34/34 [==============================] - 0s 2ms/step - loss: 176427296.0000 - mae: 8331.3691\n",
      "Epoch 116/200\n",
      "34/34 [==============================] - 0s 2ms/step - loss: 175786224.0000 - mae: 8317.5918\n",
      "Epoch 117/200\n",
      "34/34 [==============================] - 0s 2ms/step - loss: 175165952.0000 - mae: 8305.0195\n",
      "Epoch 118/200\n",
      "34/34 [==============================] - 0s 2ms/step - loss: 174552736.0000 - mae: 8292.1143\n",
      "Epoch 119/200\n",
      "34/34 [==============================] - 0s 2ms/step - loss: 173951488.0000 - mae: 8279.2080\n",
      "Epoch 120/200\n",
      "34/34 [==============================] - 0s 2ms/step - loss: 173339840.0000 - mae: 8266.3271\n",
      "Epoch 121/200\n",
      "34/34 [==============================] - 0s 2ms/step - loss: 172733792.0000 - mae: 8254.0762\n",
      "Epoch 122/200\n",
      "34/34 [==============================] - 0s 2ms/step - loss: 172142416.0000 - mae: 8241.8662\n",
      "Epoch 123/200\n",
      "34/34 [==============================] - 0s 2ms/step - loss: 171559728.0000 - mae: 8231.4199\n",
      "Epoch 124/200\n",
      "34/34 [==============================] - 0s 2ms/step - loss: 170986672.0000 - mae: 8221.5762\n",
      "Epoch 125/200\n",
      "34/34 [==============================] - 0s 2ms/step - loss: 170406160.0000 - mae: 8211.0068\n",
      "Epoch 126/200\n",
      "34/34 [==============================] - 0s 2ms/step - loss: 169846608.0000 - mae: 8201.1484\n",
      "Epoch 127/200\n",
      "34/34 [==============================] - 0s 2ms/step - loss: 169280672.0000 - mae: 8192.6328\n",
      "Epoch 128/200\n",
      "34/34 [==============================] - 0s 2ms/step - loss: 168735264.0000 - mae: 8183.6475\n",
      "Epoch 129/200\n",
      "34/34 [==============================] - 0s 2ms/step - loss: 168192320.0000 - mae: 8174.8496\n",
      "Epoch 130/200\n",
      "34/34 [==============================] - 0s 3ms/step - loss: 167653216.0000 - mae: 8165.9224\n",
      "Epoch 131/200\n",
      "34/34 [==============================] - 0s 2ms/step - loss: 167126400.0000 - mae: 8157.8311\n",
      "Epoch 132/200\n",
      "34/34 [==============================] - 0s 3ms/step - loss: 166600528.0000 - mae: 8149.6289\n",
      "Epoch 133/200\n",
      "34/34 [==============================] - 0s 2ms/step - loss: 166078928.0000 - mae: 8141.9775\n",
      "Epoch 134/200\n",
      "34/34 [==============================] - 0s 2ms/step - loss: 165571920.0000 - mae: 8134.6533\n",
      "Epoch 135/200\n",
      "34/34 [==============================] - 0s 2ms/step - loss: 165064624.0000 - mae: 8127.5806\n",
      "Epoch 136/200\n",
      "34/34 [==============================] - 0s 2ms/step - loss: 164573200.0000 - mae: 8120.3413\n",
      "Epoch 137/200\n",
      "34/34 [==============================] - 0s 2ms/step - loss: 164083760.0000 - mae: 8113.9102\n",
      "Epoch 138/200\n",
      "34/34 [==============================] - 0s 2ms/step - loss: 163591776.0000 - mae: 8107.3853\n",
      "Epoch 139/200\n",
      "34/34 [==============================] - 0s 3ms/step - loss: 163104048.0000 - mae: 8099.8794\n",
      "Epoch 140/200\n",
      "34/34 [==============================] - 0s 4ms/step - loss: 162631168.0000 - mae: 8094.0615\n",
      "Epoch 141/200\n",
      "34/34 [==============================] - 0s 3ms/step - loss: 162164592.0000 - mae: 8088.2720\n",
      "Epoch 142/200\n",
      "34/34 [==============================] - 0s 3ms/step - loss: 161699728.0000 - mae: 8082.4570\n",
      "Epoch 143/200\n",
      "34/34 [==============================] - 0s 2ms/step - loss: 161238416.0000 - mae: 8076.6899\n",
      "Epoch 144/200\n",
      "34/34 [==============================] - 0s 2ms/step - loss: 160796240.0000 - mae: 8072.0879\n",
      "Epoch 145/200\n",
      "34/34 [==============================] - 0s 2ms/step - loss: 160351136.0000 - mae: 8067.3374\n",
      "Epoch 146/200\n",
      "34/34 [==============================] - 0s 2ms/step - loss: 159915680.0000 - mae: 8062.4814\n",
      "Epoch 147/200\n",
      "34/34 [==============================] - 0s 2ms/step - loss: 159489728.0000 - mae: 8058.5923\n",
      "Epoch 148/200\n",
      "34/34 [==============================] - 0s 2ms/step - loss: 159063824.0000 - mae: 8055.2383\n",
      "Epoch 149/200\n",
      "34/34 [==============================] - 0s 2ms/step - loss: 158649184.0000 - mae: 8050.9009\n",
      "Epoch 150/200\n",
      "34/34 [==============================] - 0s 2ms/step - loss: 158228064.0000 - mae: 8047.4121\n",
      "Epoch 151/200\n",
      "34/34 [==============================] - 0s 3ms/step - loss: 157820368.0000 - mae: 8045.2241\n",
      "Epoch 152/200\n",
      "34/34 [==============================] - 0s 3ms/step - loss: 157414960.0000 - mae: 8041.9429\n",
      "Epoch 153/200\n",
      "34/34 [==============================] - 0s 4ms/step - loss: 157021536.0000 - mae: 8040.1084\n",
      "Epoch 154/200\n",
      "34/34 [==============================] - 0s 3ms/step - loss: 156630960.0000 - mae: 8038.1318\n",
      "Epoch 155/200\n",
      "34/34 [==============================] - 0s 3ms/step - loss: 156252832.0000 - mae: 8037.1689\n",
      "Epoch 156/200\n",
      "34/34 [==============================] - 0s 2ms/step - loss: 155869520.0000 - mae: 8034.3486\n",
      "Epoch 157/200\n",
      "34/34 [==============================] - 0s 2ms/step - loss: 155497664.0000 - mae: 8034.1011\n",
      "Epoch 158/200\n",
      "34/34 [==============================] - 0s 3ms/step - loss: 155126416.0000 - mae: 8032.8428\n",
      "Epoch 159/200\n",
      "34/34 [==============================] - 0s 3ms/step - loss: 154761312.0000 - mae: 8032.1758\n",
      "Epoch 160/200\n",
      "34/34 [==============================] - 0s 2ms/step - loss: 154407440.0000 - mae: 8031.5918\n",
      "Epoch 161/200\n",
      "34/34 [==============================] - 0s 2ms/step - loss: 154054096.0000 - mae: 8031.0889\n",
      "Epoch 162/200\n",
      "34/34 [==============================] - 0s 2ms/step - loss: 153711568.0000 - mae: 8031.6401\n",
      "Epoch 163/200\n",
      "34/34 [==============================] - 0s 2ms/step - loss: 153368304.0000 - mae: 8030.8857\n",
      "Epoch 164/200\n",
      "34/34 [==============================] - 0s 2ms/step - loss: 153042048.0000 - mae: 8032.0225\n",
      "Epoch 165/200\n",
      "34/34 [==============================] - 0s 2ms/step - loss: 152715072.0000 - mae: 8032.0195\n",
      "Epoch 166/200\n",
      "34/34 [==============================] - 0s 2ms/step - loss: 152396672.0000 - mae: 8033.2729\n",
      "Epoch 167/200\n",
      "34/34 [==============================] - 0s 2ms/step - loss: 152079280.0000 - mae: 8033.7148\n",
      "Epoch 168/200\n",
      "34/34 [==============================] - 0s 2ms/step - loss: 151775024.0000 - mae: 8034.8608\n",
      "Epoch 169/200\n",
      "34/34 [==============================] - 0s 2ms/step - loss: 151465776.0000 - mae: 8035.8110\n",
      "Epoch 170/200\n",
      "34/34 [==============================] - 0s 2ms/step - loss: 151163616.0000 - mae: 8037.5278\n",
      "Epoch 171/200\n",
      "34/34 [==============================] - 0s 2ms/step - loss: 150868144.0000 - mae: 8040.1953\n",
      "Epoch 172/200\n",
      "34/34 [==============================] - 0s 2ms/step - loss: 150579776.0000 - mae: 8041.8208\n",
      "Epoch 173/200\n",
      "34/34 [==============================] - 0s 2ms/step - loss: 150290640.0000 - mae: 8044.2729\n",
      "Epoch 174/200\n",
      "34/34 [==============================] - 0s 2ms/step - loss: 150009952.0000 - mae: 8045.9365\n",
      "Epoch 175/200\n",
      "34/34 [==============================] - 0s 3ms/step - loss: 149733056.0000 - mae: 8048.7998\n",
      "Epoch 176/200\n",
      "34/34 [==============================] - 0s 2ms/step - loss: 149464336.0000 - mae: 8051.9805\n",
      "Epoch 177/200\n",
      "34/34 [==============================] - 0s 2ms/step - loss: 149194640.0000 - mae: 8054.7588\n",
      "Epoch 178/200\n",
      "34/34 [==============================] - 0s 2ms/step - loss: 148936272.0000 - mae: 8058.1299\n",
      "Epoch 179/200\n",
      "34/34 [==============================] - 0s 2ms/step - loss: 148684240.0000 - mae: 8061.7578\n",
      "Epoch 180/200\n",
      "34/34 [==============================] - 0s 2ms/step - loss: 148429424.0000 - mae: 8064.6064\n",
      "Epoch 181/200\n",
      "34/34 [==============================] - 0s 2ms/step - loss: 148184768.0000 - mae: 8068.8506\n",
      "Epoch 182/200\n",
      "34/34 [==============================] - 0s 2ms/step - loss: 147939888.0000 - mae: 8072.8896\n",
      "Epoch 183/200\n",
      "34/34 [==============================] - 0s 2ms/step - loss: 147697184.0000 - mae: 8076.7178\n",
      "Epoch 184/200\n",
      "34/34 [==============================] - 0s 2ms/step - loss: 147468560.0000 - mae: 8081.4077\n",
      "Epoch 185/200\n",
      "34/34 [==============================] - 0s 2ms/step - loss: 147233312.0000 - mae: 8085.0830\n",
      "Epoch 186/200\n",
      "34/34 [==============================] - 0s 3ms/step - loss: 147017536.0000 - mae: 8090.4692\n",
      "Epoch 187/200\n",
      "34/34 [==============================] - 0s 3ms/step - loss: 146783680.0000 - mae: 8094.6167\n",
      "Epoch 188/200\n",
      "34/34 [==============================] - 0s 2ms/step - loss: 146576912.0000 - mae: 8099.3120\n",
      "Epoch 189/200\n",
      "34/34 [==============================] - 0s 2ms/step - loss: 146361184.0000 - mae: 8103.1533\n",
      "Epoch 190/200\n",
      "34/34 [==============================] - 0s 3ms/step - loss: 146158592.0000 - mae: 8108.3823\n",
      "Epoch 191/200\n",
      "34/34 [==============================] - 0s 3ms/step - loss: 145957840.0000 - mae: 8113.3867\n",
      "Epoch 192/200\n",
      "34/34 [==============================] - 0s 3ms/step - loss: 145757232.0000 - mae: 8118.1431\n",
      "Epoch 193/200\n",
      "34/34 [==============================] - 0s 3ms/step - loss: 145570384.0000 - mae: 8124.4263\n",
      "Epoch 194/200\n",
      "34/34 [==============================] - 0s 3ms/step - loss: 145376992.0000 - mae: 8128.6675\n",
      "Epoch 195/200\n",
      "34/34 [==============================] - 0s 3ms/step - loss: 145194448.0000 - mae: 8133.8721\n",
      "Epoch 196/200\n",
      "34/34 [==============================] - 0s 3ms/step - loss: 145017392.0000 - mae: 8139.8774\n",
      "Epoch 197/200\n",
      "34/34 [==============================] - 0s 3ms/step - loss: 144839328.0000 - mae: 8145.4727\n",
      "Epoch 198/200\n",
      "34/34 [==============================] - 0s 3ms/step - loss: 144663312.0000 - mae: 8149.5400\n",
      "Epoch 199/200\n",
      "34/34 [==============================] - 0s 2ms/step - loss: 144504192.0000 - mae: 8155.9927\n",
      "Epoch 200/200\n",
      "34/34 [==============================] - 0s 3ms/step - loss: 144333728.0000 - mae: 8161.0596\n"
     ]
    }
   ],
   "source": [
    "#Model\n",
    "\n",
    "insurance_model = tf.keras.Sequential([\n",
    "    tf.keras.layers.Dense(100, activation=\"relu\"),\n",
    "    tf.keras.layers.Dense(200, activation=\"relu\"),\n",
    "    tf.keras.layers.Dense(300, activation=\"relu\"),\n",
    "    tf.keras.layers.Dense(400, activation=\"relu\"),\n",
    "    tf.keras.layers.Dense(500, activation=\"relu\"),\n",
    "    tf.keras.layers.Dense(1)\n",
    "])\n",
    "\n",
    "insurance_model.compile(loss = tf.keras.losses.mse,\n",
    "                        optimizer=tf.keras.optimizers.Adam(lr=0.004),\n",
    "                        metrics=['mae'])\n",
    "history = insurance_model.fit(X_train_normal, y_train, epochs=200)"
   ],
   "metadata": {
    "collapsed": false,
    "ExecuteTime": {
     "end_time": "2023-12-31T06:17:18.245828300Z",
     "start_time": "2023-12-31T06:17:00.261007600Z"
    }
   },
   "id": "e123aefc360dfa0d"
  },
  {
   "cell_type": "code",
   "execution_count": 31,
   "outputs": [
    {
     "data": {
      "image/png": "[encoded data removed]",
      "text/plain": "<IPython.core.display.Image object>"
     },
     "execution_count": 31,
     "metadata": {},
     "output_type": "execute_result"
    }
   ],
   "source": [
    "from keras.utils import plot_model\n",
    "plot_model(insurance_model, show_shapes=True)"
   ],
   "metadata": {
    "collapsed": false,
    "ExecuteTime": {
     "end_time": "2023-12-31T05:58:55.670947400Z",
     "start_time": "2023-12-31T05:58:55.503076Z"
    }
   },
   "id": "75b5a0483d5bd1ff"
  },
  {
   "cell_type": "code",
   "execution_count": 50,
   "outputs": [
    {
     "name": "stdout",
     "output_type": "stream",
     "text": [
      "9/9 [==============================] - 0s 2ms/step - loss: 2210.6318 - mae: 2210.6318\n"
     ]
    },
    {
     "data": {
      "text/plain": "[2210.6318359375, 2210.6318359375]"
     },
     "execution_count": 50,
     "metadata": {},
     "output_type": "execute_result"
    }
   ],
   "source": [
    "insurance_model.evaluate(X_test_normal, y_test)"
   ],
   "metadata": {
    "collapsed": false,
    "ExecuteTime": {
     "end_time": "2023-12-31T06:11:08.423634200Z",
     "start_time": "2023-12-31T06:11:08.265332Z"
    }
   },
   "id": "8ab741ed4ef2e7eb"
  },
  {
   "cell_type": "code",
   "execution_count": 52,
   "outputs": [
    {
     "data": {
      "text/plain": "Text(0, 0.5, 'loss')"
     },
     "execution_count": 52,
     "metadata": {},
     "output_type": "execute_result"
    },
    {
     "data": {
      "text/plain": "<Figure size 640x480 with 1 Axes>",
      "image/png": "[encoded data removed]"
     },
     "metadata": {},
     "output_type": "display_data"
    }
   ],
   "source": [
    "pd.DataFrame(history.history).plot()\n",
    "plt.xlabel(\"epochs\")\n",
    "plt.ylabel(\"loss\")"
   ],
   "metadata": {
    "collapsed": false,
    "ExecuteTime": {
     "end_time": "2023-12-31T06:11:32.525680400Z",
     "start_time": "2023-12-31T06:11:32.343139300Z"
    }
   },
   "id": "fb7d29e0e573d9fc"
  }
 ],
 "metadata": {
  "kernelspec": {
   "display_name": "Python 3",
   "language": "python",
   "name": "python3"
  },
  "language_info": {
   "codemirror_mode": {
    "name": "ipython",
    "version": 2
   },
   "file_extension": ".py",
   "mimetype": "text/x-python",
   "name": "python",
   "nbconvert_exporter": "python",
   "pygments_lexer": "ipython2",
   "version": "2.7.6"
  }
 },
 "nbformat": 4,
 "nbformat_minor": 5
}
