{
 "cells": [
  {
   "cell_type": "code",
   "execution_count": 1,
   "id": "initial_id",
   "metadata": {
    "collapsed": true,
    "ExecuteTime": {
     "end_time": "2023-12-31T01:55:47.688401Z",
     "start_time": "2023-12-31T01:55:42.674823200Z"
    }
   },
   "outputs": [],
   "source": [
    "import tensorflow as tf\n",
    "import numpy as np\n",
    "import matplotlib.pyplot as plt "
   ]
  },
  {
   "cell_type": "code",
   "execution_count": 2,
   "outputs": [],
   "source": [
    "X = np.array([-7.0, -3.2, -2.8, 7.0, 4.3, 11.0, 9.9, 6.9 ])\n",
    "y = np.array([3.0, 6.8, 7.2, 17, 14.3, 21.0, 19.9, 16.9 ])"
   ],
   "metadata": {
    "collapsed": false,
    "ExecuteTime": {
     "end_time": "2023-12-31T01:55:47.701937700Z",
     "start_time": "2023-12-31T01:55:47.689913800Z"
    }
   },
   "id": "d46aff2850af9205"
  },
  {
   "cell_type": "code",
   "execution_count": 3,
   "outputs": [
    {
     "data": {
      "text/plain": "<matplotlib.collections.PathCollection at 0x212fbb170d0>"
     },
     "execution_count": 3,
     "metadata": {},
     "output_type": "execute_result"
    },
    {
     "data": {
      "text/plain": "<Figure size 640x480 with 1 Axes>",
      "image/png": "[encoded data removed]"
     },
     "metadata": {},
     "output_type": "display_data"
    }
   ],
   "source": [
    "plt.scatter(X, y)"
   ],
   "metadata": {
    "collapsed": false,
    "ExecuteTime": {
     "end_time": "2023-12-31T01:55:47.875023600Z",
     "start_time": "2023-12-31T01:55:47.703940200Z"
    }
   },
   "id": "b938e5d1ca708afe"
  },
  {
   "cell_type": "code",
   "execution_count": 4,
   "outputs": [
    {
     "data": {
      "text/plain": "((8,), (8,))"
     },
     "execution_count": 4,
     "metadata": {},
     "output_type": "execute_result"
    }
   ],
   "source": [
    "X.shape, y.shape"
   ],
   "metadata": {
    "collapsed": false,
    "ExecuteTime": {
     "end_time": "2023-12-31T01:55:47.949800700Z",
     "start_time": "2023-12-31T01:55:47.875023600Z"
    }
   },
   "id": "bec7f0925bd083f3"
  },
  {
   "cell_type": "code",
   "execution_count": 5,
   "outputs": [
    {
     "data": {
      "text/plain": "(<tf.Tensor: shape=(3,), dtype=string, numpy=array([b'bedrooms', b'bathroom', b'garage'], dtype=object)>,\n <tf.Tensor: shape=(1,), dtype=int32, numpy=array([939700])>)"
     },
     "execution_count": 5,
     "metadata": {},
     "output_type": "execute_result"
    }
   ],
   "source": [
    "house_info = tf.constant([\"bedrooms\", \"bathroom\", \"garage\"])\n",
    "house_price = tf.constant([939700])\n",
    "house_info, house_price"
   ],
   "metadata": {
    "collapsed": false,
    "ExecuteTime": {
     "end_time": "2023-12-31T01:55:49.570873800Z",
     "start_time": "2023-12-31T01:55:47.891621500Z"
    }
   },
   "id": "5ac271ca1417bc38"
  },
  {
   "cell_type": "code",
   "execution_count": 6,
   "outputs": [
    {
     "data": {
      "text/plain": "(<tf.Tensor: shape=(8, 1), dtype=float64, numpy=\n array([[-7. ],\n        [-3.2],\n        [-2.8],\n        [ 7. ],\n        [ 4.3],\n        [11. ],\n        [ 9.9],\n        [ 6.9]])>,\n <tf.Tensor: shape=(8, 1), dtype=float64, numpy=\n array([[ 3. ],\n        [ 6.8],\n        [ 7.2],\n        [17. ],\n        [14.3],\n        [21. ],\n        [19.9],\n        [16.9]])>)"
     },
     "execution_count": 6,
     "metadata": {},
     "output_type": "execute_result"
    }
   ],
   "source": [
    "X = tf.constant(X)\n",
    "y = tf.constant(y)\n",
    "X = tf.expand_dims(X, axis=-1)\n",
    "y = tf.expand_dims(y, axis=-1)\n",
    "X, y"
   ],
   "metadata": {
    "collapsed": false,
    "ExecuteTime": {
     "end_time": "2023-12-31T01:55:49.822895600Z",
     "start_time": "2023-12-31T01:55:49.809846100Z"
    }
   },
   "id": "f17879597739328e"
  },
  {
   "cell_type": "code",
   "execution_count": 7,
   "outputs": [
    {
     "name": "stdout",
     "output_type": "stream",
     "text": [
      "1/1 [==============================] - 1s 552ms/step - loss: 14.0433 - accuracy: 0.0000e+00\n"
     ]
    },
    {
     "data": {
      "text/plain": "<keras.callbacks.History at 0x212af49af10>"
     },
     "execution_count": 7,
     "metadata": {},
     "output_type": "execute_result"
    }
   ],
   "source": [
    "\n",
    "tf.random.set_seed(69)\n",
    "\n",
    "model = tf.keras.Sequential([\n",
    "    tf.keras.layers.Dense(100, activation=\"relu\"),\n",
    "    tf.keras.layers.Dense(1)\n",
    "])\n",
    "\n",
    "model.compile(loss = tf.keras.losses.mae, optimizer=tf.keras.optimizers.Adam(learning_rate = 0.01), metrics=[\"accuracy\"])\n",
    "\n",
    "model.fit(X, y, epochs=1)"
   ],
   "metadata": {
    "collapsed": false,
    "ExecuteTime": {
     "end_time": "2023-12-31T01:55:50.547159200Z",
     "start_time": "2023-12-31T01:55:49.821895400Z"
    }
   },
   "id": "38889978c4d8592f"
  },
  {
   "cell_type": "code",
   "execution_count": 8,
   "outputs": [
    {
     "name": "stdout",
     "output_type": "stream",
     "text": [
      "1/1 [==============================] - 0s 79ms/step\n"
     ]
    },
    {
     "data": {
      "text/plain": "array([[0.01716384]], dtype=float32)"
     },
     "execution_count": 8,
     "metadata": {},
     "output_type": "execute_result"
    }
   ],
   "source": [
    "model.predict([1.0])"
   ],
   "metadata": {
    "collapsed": false,
    "ExecuteTime": {
     "end_time": "2023-12-31T01:55:50.668639500Z",
     "start_time": "2023-12-31T01:55:50.548881700Z"
    }
   },
   "id": "726cac6f3ad5ed2a"
  },
  {
   "cell_type": "code",
   "execution_count": 9,
   "outputs": [
    {
     "data": {
      "text/plain": "<tf.Tensor: shape=(98,), dtype=int32, numpy=\narray([-69, -64, -59, -54, -49, -44, -39, -34, -29, -24, -19, -14,  -9,\n        -4,   1,   6,  11,  16,  21,  26,  31,  36,  41,  46,  51,  56,\n        61,  66,  71,  76,  81,  86,  91,  96, 101, 106, 111, 116, 121,\n       126, 131, 136, 141, 146, 151, 156, 161, 166, 171, 176, 181, 186,\n       191, 196, 201, 206, 211, 216, 221, 226, 231, 236, 241, 246, 251,\n       256, 261, 266, 271, 276, 281, 286, 291, 296, 301, 306, 311, 316,\n       321, 326, 331, 336, 341, 346, 351, 356, 361, 366, 371, 376, 381,\n       386, 391, 396, 401, 406, 411, 416])>"
     },
     "execution_count": 9,
     "metadata": {},
     "output_type": "execute_result"
    }
   ],
   "source": [
    "X1 = tf.range(-69, 420, 5)\n",
    "X1"
   ],
   "metadata": {
    "collapsed": false,
    "ExecuteTime": {
     "end_time": "2023-12-31T01:55:50.728899200Z",
     "start_time": "2023-12-31T01:55:50.670151900Z"
    }
   },
   "id": "e925b0a3c96bc3d"
  },
  {
   "cell_type": "code",
   "execution_count": 10,
   "outputs": [
    {
     "data": {
      "text/plain": "<tf.Tensor: shape=(98,), dtype=int32, numpy=\narray([  0,   5,  10,  15,  20,  25,  30,  35,  40,  45,  50,  55,  60,\n        65,  70,  75,  80,  85,  90,  95, 100, 105, 110, 115, 120, 125,\n       130, 135, 140, 145, 150, 155, 160, 165, 170, 175, 180, 185, 190,\n       195, 200, 205, 210, 215, 220, 225, 230, 235, 240, 245, 250, 255,\n       260, 265, 270, 275, 280, 285, 290, 295, 300, 305, 310, 315, 320,\n       325, 330, 335, 340, 345, 350, 355, 360, 365, 370, 375, 380, 385,\n       390, 395, 400, 405, 410, 415, 420, 425, 430, 435, 440, 445, 450,\n       455, 460, 465, 470, 475, 480, 485])>"
     },
     "execution_count": 10,
     "metadata": {},
     "output_type": "execute_result"
    }
   ],
   "source": [
    "y1 = X1 + 69\n",
    "y1"
   ],
   "metadata": {
    "collapsed": false,
    "ExecuteTime": {
     "end_time": "2023-12-31T01:55:50.738786500Z",
     "start_time": "2023-12-31T01:55:50.685690200Z"
    }
   },
   "id": "a335c638ab7026ac"
  },
  {
   "cell_type": "code",
   "execution_count": 11,
   "outputs": [],
   "source": [
    "#X1 = tf.expand_dims(X1, axis=-1)\n",
    "#y1 = tf.expand_dims(y1, axis=-1)"
   ],
   "metadata": {
    "collapsed": false,
    "ExecuteTime": {
     "end_time": "2023-12-31T01:55:50.739812600Z",
     "start_time": "2023-12-31T01:55:50.701803900Z"
    }
   },
   "id": "a7f502f2e131c192"
  },
  {
   "cell_type": "code",
   "execution_count": 12,
   "outputs": [
    {
     "data": {
      "text/plain": "<matplotlib.collections.PathCollection at 0x212af918490>"
     },
     "execution_count": 12,
     "metadata": {},
     "output_type": "execute_result"
    },
    {
     "data": {
      "text/plain": "<Figure size 640x480 with 1 Axes>",
      "image/png": "[encoded data removed]"
     },
     "metadata": {},
     "output_type": "display_data"
    }
   ],
   "source": [
    "plt.scatter(X1, y1)"
   ],
   "metadata": {
    "collapsed": false,
    "ExecuteTime": {
     "end_time": "2023-12-31T01:55:50.916229800Z",
     "start_time": "2023-12-31T01:55:50.716849900Z"
    }
   },
   "id": "3a5d1f14c57ff28b"
  },
  {
   "cell_type": "code",
   "execution_count": 13,
   "outputs": [
    {
     "data": {
      "text/plain": "(TensorShape([78]), TensorShape([20]), TensorShape([78]), TensorShape([20]))"
     },
     "execution_count": 13,
     "metadata": {},
     "output_type": "execute_result"
    }
   ],
   "source": [
    "v = int(len(X1)* 0.8)\n",
    "X_train = X1[:v]\n",
    "X_test = X1[v:]\n",
    "Y_train = y1[:v]\n",
    "Y_test = y1[v:]\n",
    "X_train.shape, X_test.shape, Y_train.shape, Y_test.shape"
   ],
   "metadata": {
    "collapsed": false,
    "ExecuteTime": {
     "end_time": "2023-12-31T01:55:51.008102200Z",
     "start_time": "2023-12-31T01:55:50.918228400Z"
    }
   },
   "id": "39eb1a6f54aaa7f5"
  },
  {
   "cell_type": "code",
   "execution_count": 14,
   "outputs": [],
   "source": [
    "X_train = tf.expand_dims(X_train, axis=-1)\n",
    "X_test = tf.expand_dims(X_test, axis=-1)\n",
    "Y_train = tf.expand_dims(Y_train, axis=-1)\n",
    "Y_test = tf.expand_dims(Y_test, axis=-1)"
   ],
   "metadata": {
    "collapsed": false,
    "ExecuteTime": {
     "end_time": "2023-12-31T01:55:51.016132500Z",
     "start_time": "2023-12-31T01:55:50.934097300Z"
    }
   },
   "id": "4332e9c0baaf23b4"
  },
  {
   "cell_type": "code",
   "execution_count": 15,
   "outputs": [
    {
     "data": {
      "text/plain": "<Figure size 1100x800 with 1 Axes>",
      "image/png": "[encoded data removed]"
     },
     "metadata": {},
     "output_type": "display_data"
    }
   ],
   "source": [
    "plt.figure(figsize=(11, 8))\n",
    "\n",
    "plt.scatter(X_train, Y_train, c=\"b\", label=\"Training\")\n",
    "plt.scatter(X_test, Y_test, c=\"y\", label=\"Training\")\n",
    "plt.legend();"
   ],
   "metadata": {
    "collapsed": false,
    "ExecuteTime": {
     "end_time": "2023-12-31T01:55:51.104066200Z",
     "start_time": "2023-12-31T01:55:50.957262Z"
    }
   },
   "id": "af7c344005e27e81"
  },
  {
   "cell_type": "code",
   "execution_count": 16,
   "outputs": [
    {
     "name": "stdout",
     "output_type": "stream",
     "text": [
      "Epoch 1/285\n",
      "3/3 [==============================] - 0s 4ms/step - loss: 44941.6523 - accuracy: 0.0000e+00\n",
      "Epoch 2/285\n",
      "3/3 [==============================] - 0s 4ms/step - loss: 34448.3164 - accuracy: 0.0000e+00\n",
      "Epoch 3/285\n",
      "3/3 [==============================] - 0s 3ms/step - loss: 25474.1270 - accuracy: 0.0000e+00\n",
      "Epoch 4/285\n",
      "3/3 [==============================] - 0s 3ms/step - loss: 15013.0254 - accuracy: 0.0000e+00\n",
      "Epoch 5/285\n",
      "3/3 [==============================] - 0s 4ms/step - loss: 7040.0947 - accuracy: 0.0000e+00\n",
      "Epoch 6/285\n",
      "3/3 [==============================] - 0s 4ms/step - loss: 1821.1851 - accuracy: 0.0000e+00\n",
      "Epoch 7/285\n",
      "3/3 [==============================] - 0s 3ms/step - loss: 1816.7103 - accuracy: 0.0000e+00\n",
      "Epoch 8/285\n",
      "3/3 [==============================] - 0s 3ms/step - loss: 4411.1729 - accuracy: 0.0000e+00\n",
      "Epoch 9/285\n",
      "3/3 [==============================] - 0s 3ms/step - loss: 4447.2354 - accuracy: 0.0000e+00\n",
      "Epoch 10/285\n",
      "3/3 [==============================] - 0s 4ms/step - loss: 2448.1646 - accuracy: 0.0000e+00\n",
      "Epoch 11/285\n",
      "3/3 [==============================] - 0s 4ms/step - loss: 1282.4376 - accuracy: 0.0000e+00\n",
      "Epoch 12/285\n",
      "3/3 [==============================] - 0s 3ms/step - loss: 1334.9816 - accuracy: 0.0000e+00\n",
      "Epoch 13/285\n",
      "3/3 [==============================] - 0s 4ms/step - loss: 1678.5919 - accuracy: 0.0000e+00\n",
      "Epoch 14/285\n",
      "3/3 [==============================] - 0s 4ms/step - loss: 1685.4343 - accuracy: 0.0000e+00\n",
      "Epoch 15/285\n",
      "3/3 [==============================] - 0s 5ms/step - loss: 1420.8306 - accuracy: 0.0000e+00\n",
      "Epoch 16/285\n",
      "3/3 [==============================] - 0s 4ms/step - loss: 1188.0319 - accuracy: 0.0000e+00\n",
      "Epoch 17/285\n",
      "3/3 [==============================] - 0s 4ms/step - loss: 1223.8422 - accuracy: 0.0000e+00\n",
      "Epoch 18/285\n",
      "3/3 [==============================] - 0s 5ms/step - loss: 1306.3375 - accuracy: 0.0000e+00\n",
      "Epoch 19/285\n",
      "3/3 [==============================] - 0s 4ms/step - loss: 1263.6174 - accuracy: 0.0000e+00\n",
      "Epoch 20/285\n",
      "3/3 [==============================] - 0s 5ms/step - loss: 1177.0232 - accuracy: 0.0000e+00\n",
      "Epoch 21/285\n",
      "3/3 [==============================] - 0s 4ms/step - loss: 1176.0233 - accuracy: 0.0000e+00\n",
      "Epoch 22/285\n",
      "3/3 [==============================] - 0s 4ms/step - loss: 1197.4661 - accuracy: 0.0000e+00\n",
      "Epoch 23/285\n",
      "3/3 [==============================] - 0s 4ms/step - loss: 1194.8983 - accuracy: 0.0000e+00\n",
      "Epoch 24/285\n",
      "3/3 [==============================] - 0s 4ms/step - loss: 1174.3307 - accuracy: 0.0000e+00\n",
      "Epoch 25/285\n",
      "3/3 [==============================] - 0s 4ms/step - loss: 1170.2133 - accuracy: 0.0000e+00\n",
      "Epoch 26/285\n",
      "3/3 [==============================] - 0s 4ms/step - loss: 1166.5228 - accuracy: 0.0000e+00\n",
      "Epoch 27/285\n",
      "3/3 [==============================] - 0s 4ms/step - loss: 1161.2592 - accuracy: 0.0000e+00\n",
      "Epoch 28/285\n",
      "3/3 [==============================] - 0s 5ms/step - loss: 1161.4940 - accuracy: 0.0000e+00\n",
      "Epoch 29/285\n",
      "3/3 [==============================] - 0s 4ms/step - loss: 1158.0795 - accuracy: 0.0000e+00\n",
      "Epoch 30/285\n",
      "3/3 [==============================] - 0s 5ms/step - loss: 1155.5391 - accuracy: 0.0000e+00\n",
      "Epoch 31/285\n",
      "3/3 [==============================] - 0s 4ms/step - loss: 1156.5225 - accuracy: 0.0000e+00\n",
      "Epoch 32/285\n",
      "3/3 [==============================] - 0s 5ms/step - loss: 1152.9199 - accuracy: 0.0000e+00\n",
      "Epoch 33/285\n",
      "3/3 [==============================] - 0s 4ms/step - loss: 1153.1729 - accuracy: 0.0000e+00\n",
      "Epoch 34/285\n",
      "3/3 [==============================] - 0s 4ms/step - loss: 1149.5267 - accuracy: 0.0000e+00\n",
      "Epoch 35/285\n",
      "3/3 [==============================] - 0s 4ms/step - loss: 1147.9707 - accuracy: 0.0000e+00\n",
      "Epoch 36/285\n",
      "3/3 [==============================] - 0s 4ms/step - loss: 1148.6066 - accuracy: 0.0000e+00\n",
      "Epoch 37/285\n",
      "3/3 [==============================] - 0s 4ms/step - loss: 1142.7793 - accuracy: 0.0000e+00\n",
      "Epoch 38/285\n",
      "3/3 [==============================] - 0s 5ms/step - loss: 1141.1478 - accuracy: 0.0000e+00\n",
      "Epoch 39/285\n",
      "3/3 [==============================] - 0s 5ms/step - loss: 1141.5416 - accuracy: 0.0000e+00\n",
      "Epoch 40/285\n",
      "3/3 [==============================] - 0s 5ms/step - loss: 1132.7419 - accuracy: 0.0000e+00\n",
      "Epoch 41/285\n",
      "3/3 [==============================] - 0s 4ms/step - loss: 1134.9491 - accuracy: 0.0000e+00\n",
      "Epoch 42/285\n",
      "3/3 [==============================] - 0s 4ms/step - loss: 1140.3900 - accuracy: 0.0000e+00\n",
      "Epoch 43/285\n",
      "3/3 [==============================] - 0s 4ms/step - loss: 1125.2045 - accuracy: 0.0000e+00\n",
      "Epoch 44/285\n",
      "3/3 [==============================] - 0s 4ms/step - loss: 1137.6071 - accuracy: 0.0000e+00\n",
      "Epoch 45/285\n",
      "3/3 [==============================] - 0s 3ms/step - loss: 1125.8147 - accuracy: 0.0000e+00\n",
      "Epoch 46/285\n",
      "3/3 [==============================] - 0s 4ms/step - loss: 1118.3225 - accuracy: 0.0000e+00\n",
      "Epoch 47/285\n",
      "3/3 [==============================] - 0s 4ms/step - loss: 1119.8480 - accuracy: 0.0000e+00\n",
      "Epoch 48/285\n",
      "3/3 [==============================] - 0s 4ms/step - loss: 1107.0533 - accuracy: 0.0000e+00\n",
      "Epoch 49/285\n",
      "3/3 [==============================] - 0s 4ms/step - loss: 1099.7430 - accuracy: 0.0000e+00\n",
      "Epoch 50/285\n",
      "3/3 [==============================] - 0s 4ms/step - loss: 1102.3268 - accuracy: 0.0000e+00\n",
      "Epoch 51/285\n",
      "3/3 [==============================] - 0s 5ms/step - loss: 1093.9681 - accuracy: 0.0000e+00\n",
      "Epoch 52/285\n",
      "3/3 [==============================] - 0s 4ms/step - loss: 1108.5992 - accuracy: 0.0000e+00\n",
      "Epoch 53/285\n",
      "3/3 [==============================] - 0s 4ms/step - loss: 1072.3021 - accuracy: 0.0000e+00\n",
      "Epoch 54/285\n",
      "3/3 [==============================] - 0s 4ms/step - loss: 1084.9468 - accuracy: 0.0000e+00\n",
      "Epoch 55/285\n",
      "3/3 [==============================] - 0s 4ms/step - loss: 1073.1934 - accuracy: 0.0000e+00\n",
      "Epoch 56/285\n",
      "3/3 [==============================] - 0s 4ms/step - loss: 1065.5393 - accuracy: 0.0000e+00\n",
      "Epoch 57/285\n",
      "3/3 [==============================] - 0s 4ms/step - loss: 1065.9927 - accuracy: 0.0000e+00\n",
      "Epoch 58/285\n",
      "3/3 [==============================] - 0s 4ms/step - loss: 1053.0581 - accuracy: 0.0000e+00\n",
      "Epoch 59/285\n",
      "3/3 [==============================] - 0s 4ms/step - loss: 1045.5184 - accuracy: 0.0000e+00\n",
      "Epoch 60/285\n",
      "3/3 [==============================] - 0s 4ms/step - loss: 1031.8201 - accuracy: 0.0000e+00\n",
      "Epoch 61/285\n",
      "3/3 [==============================] - 0s 4ms/step - loss: 1024.0801 - accuracy: 0.0000e+00\n",
      "Epoch 62/285\n",
      "3/3 [==============================] - 0s 4ms/step - loss: 1012.0812 - accuracy: 0.0000e+00\n",
      "Epoch 63/285\n",
      "3/3 [==============================] - 0s 5ms/step - loss: 1007.4062 - accuracy: 0.0000e+00\n",
      "Epoch 64/285\n",
      "3/3 [==============================] - 0s 5ms/step - loss: 993.6278 - accuracy: 0.0000e+00\n",
      "Epoch 65/285\n",
      "3/3 [==============================] - 0s 4ms/step - loss: 976.1302 - accuracy: 0.0000e+00\n",
      "Epoch 66/285\n",
      "3/3 [==============================] - 0s 4ms/step - loss: 962.6234 - accuracy: 0.0000e+00\n",
      "Epoch 67/285\n",
      "3/3 [==============================] - 0s 4ms/step - loss: 962.0916 - accuracy: 0.0000e+00\n",
      "Epoch 68/285\n",
      "3/3 [==============================] - 0s 5ms/step - loss: 946.8067 - accuracy: 0.0000e+00\n",
      "Epoch 69/285\n",
      "3/3 [==============================] - 0s 4ms/step - loss: 909.7303 - accuracy: 0.0000e+00\n",
      "Epoch 70/285\n",
      "3/3 [==============================] - 0s 4ms/step - loss: 960.7385 - accuracy: 0.0000e+00\n",
      "Epoch 71/285\n",
      "3/3 [==============================] - 0s 4ms/step - loss: 917.7285 - accuracy: 0.0000e+00\n",
      "Epoch 72/285\n",
      "3/3 [==============================] - 0s 4ms/step - loss: 872.3958 - accuracy: 0.0000e+00\n",
      "Epoch 73/285\n",
      "3/3 [==============================] - 0s 5ms/step - loss: 952.7817 - accuracy: 0.0000e+00\n",
      "Epoch 74/285\n",
      "3/3 [==============================] - 0s 4ms/step - loss: 832.9883 - accuracy: 0.0000e+00\n",
      "Epoch 75/285\n",
      "3/3 [==============================] - 0s 4ms/step - loss: 866.1559 - accuracy: 0.0000e+00\n",
      "Epoch 76/285\n",
      "3/3 [==============================] - 0s 4ms/step - loss: 781.3411 - accuracy: 0.0000e+00\n",
      "Epoch 77/285\n",
      "3/3 [==============================] - 0s 5ms/step - loss: 752.8275 - accuracy: 0.0000e+00\n",
      "Epoch 78/285\n",
      "3/3 [==============================] - 0s 5ms/step - loss: 741.5056 - accuracy: 0.0000e+00\n",
      "Epoch 79/285\n",
      "3/3 [==============================] - 0s 5ms/step - loss: 742.3557 - accuracy: 0.0000e+00\n",
      "Epoch 80/285\n",
      "3/3 [==============================] - 0s 4ms/step - loss: 655.5258 - accuracy: 0.0000e+00\n",
      "Epoch 81/285\n",
      "3/3 [==============================] - 0s 5ms/step - loss: 662.9449 - accuracy: 0.0000e+00\n",
      "Epoch 82/285\n",
      "3/3 [==============================] - 0s 5ms/step - loss: 632.6158 - accuracy: 0.0000e+00\n",
      "Epoch 83/285\n",
      "3/3 [==============================] - 0s 4ms/step - loss: 536.0367 - accuracy: 0.0000e+00\n",
      "Epoch 84/285\n",
      "3/3 [==============================] - 0s 4ms/step - loss: 518.3745 - accuracy: 0.0000e+00\n",
      "Epoch 85/285\n",
      "3/3 [==============================] - 0s 4ms/step - loss: 463.1448 - accuracy: 0.0000e+00\n",
      "Epoch 86/285\n",
      "3/3 [==============================] - 0s 4ms/step - loss: 419.0488 - accuracy: 0.0000e+00\n",
      "Epoch 87/285\n",
      "3/3 [==============================] - 0s 5ms/step - loss: 388.3516 - accuracy: 0.0000e+00\n",
      "Epoch 88/285\n",
      "3/3 [==============================] - 0s 4ms/step - loss: 377.7349 - accuracy: 0.0000e+00\n",
      "Epoch 89/285\n",
      "3/3 [==============================] - 0s 5ms/step - loss: 293.5518 - accuracy: 0.0128\n",
      "Epoch 90/285\n",
      "3/3 [==============================] - 0s 5ms/step - loss: 260.4128 - accuracy: 0.0000e+00\n",
      "Epoch 91/285\n",
      "3/3 [==============================] - 0s 4ms/step - loss: 255.9388 - accuracy: 0.0000e+00\n",
      "Epoch 92/285\n",
      "3/3 [==============================] - 0s 4ms/step - loss: 167.1512 - accuracy: 0.0000e+00\n",
      "Epoch 93/285\n",
      "3/3 [==============================] - 0s 4ms/step - loss: 153.1342 - accuracy: 0.0000e+00\n",
      "Epoch 94/285\n",
      "3/3 [==============================] - 0s 4ms/step - loss: 163.8792 - accuracy: 0.0128\n",
      "Epoch 95/285\n",
      "3/3 [==============================] - 0s 4ms/step - loss: 169.7008 - accuracy: 0.0128\n",
      "Epoch 96/285\n",
      "3/3 [==============================] - 0s 4ms/step - loss: 107.5578 - accuracy: 0.0000e+00\n",
      "Epoch 97/285\n",
      "3/3 [==============================] - 0s 4ms/step - loss: 103.1408 - accuracy: 0.0128\n",
      "Epoch 98/285\n",
      "3/3 [==============================] - 0s 4ms/step - loss: 108.4048 - accuracy: 0.0128\n",
      "Epoch 99/285\n",
      "3/3 [==============================] - 0s 4ms/step - loss: 74.6704 - accuracy: 0.0000e+00\n",
      "Epoch 100/285\n",
      "3/3 [==============================] - 0s 6ms/step - loss: 72.9836 - accuracy: 0.0128\n",
      "Epoch 101/285\n",
      "3/3 [==============================] - 0s 4ms/step - loss: 35.0651 - accuracy: 0.0128\n",
      "Epoch 102/285\n",
      "3/3 [==============================] - 0s 5ms/step - loss: 49.3075 - accuracy: 0.0000e+00\n",
      "Epoch 103/285\n",
      "3/3 [==============================] - 0s 4ms/step - loss: 37.1315 - accuracy: 0.0128\n",
      "Epoch 104/285\n",
      "3/3 [==============================] - 0s 4ms/step - loss: 28.6994 - accuracy: 0.0000e+00\n",
      "Epoch 105/285\n",
      "3/3 [==============================] - 0s 4ms/step - loss: 49.8499 - accuracy: 0.0000e+00\n",
      "Epoch 106/285\n",
      "3/3 [==============================] - 0s 5ms/step - loss: 29.5594 - accuracy: 0.0128\n",
      "Epoch 107/285\n",
      "3/3 [==============================] - 0s 4ms/step - loss: 24.5371 - accuracy: 0.0000e+00\n",
      "Epoch 108/285\n",
      "3/3 [==============================] - 0s 4ms/step - loss: 21.7943 - accuracy: 0.0000e+00\n",
      "Epoch 109/285\n",
      "3/3 [==============================] - 0s 5ms/step - loss: 15.6174 - accuracy: 0.0128\n",
      "Epoch 110/285\n",
      "3/3 [==============================] - 0s 4ms/step - loss: 19.8105 - accuracy: 0.0000e+00\n",
      "Epoch 111/285\n",
      "3/3 [==============================] - 0s 4ms/step - loss: 9.4933 - accuracy: 0.0000e+00\n",
      "Epoch 112/285\n",
      "3/3 [==============================] - 0s 4ms/step - loss: 6.7189 - accuracy: 0.0000e+00\n",
      "Epoch 113/285\n",
      "3/3 [==============================] - 0s 4ms/step - loss: 4.8321 - accuracy: 0.0000e+00\n",
      "Epoch 114/285\n",
      "3/3 [==============================] - 0s 4ms/step - loss: 3.9564 - accuracy: 0.0000e+00\n",
      "Epoch 115/285\n",
      "3/3 [==============================] - 0s 3ms/step - loss: 3.7793 - accuracy: 0.0000e+00\n",
      "Epoch 116/285\n",
      "3/3 [==============================] - 0s 4ms/step - loss: 3.8502 - accuracy: 0.0128\n",
      "Epoch 117/285\n",
      "3/3 [==============================] - 0s 5ms/step - loss: 4.3398 - accuracy: 0.0000e+00\n",
      "Epoch 118/285\n",
      "3/3 [==============================] - 0s 5ms/step - loss: 5.7442 - accuracy: 0.0000e+00\n",
      "Epoch 119/285\n",
      "3/3 [==============================] - 0s 4ms/step - loss: 5.2040 - accuracy: 0.0000e+00\n",
      "Epoch 120/285\n",
      "3/3 [==============================] - 0s 4ms/step - loss: 12.1266 - accuracy: 0.0000e+00\n",
      "Epoch 121/285\n",
      "3/3 [==============================] - 0s 4ms/step - loss: 7.3208 - accuracy: 0.0128\n",
      "Epoch 122/285\n",
      "3/3 [==============================] - 0s 4ms/step - loss: 6.7303 - accuracy: 0.0000e+00\n",
      "Epoch 123/285\n",
      "3/3 [==============================] - 0s 4ms/step - loss: 3.8245 - accuracy: 0.0128\n",
      "Epoch 124/285\n",
      "3/3 [==============================] - 0s 4ms/step - loss: 5.1764 - accuracy: 0.0128\n",
      "Epoch 125/285\n",
      "3/3 [==============================] - 0s 4ms/step - loss: 11.4371 - accuracy: 0.0000e+00\n",
      "Epoch 126/285\n",
      "3/3 [==============================] - 0s 5ms/step - loss: 7.8972 - accuracy: 0.0128 \n",
      "Epoch 127/285\n",
      "3/3 [==============================] - 0s 5ms/step - loss: 23.3874 - accuracy: 0.0000e+00\n",
      "Epoch 128/285\n",
      "3/3 [==============================] - 0s 4ms/step - loss: 41.6592 - accuracy: 0.0000e+00\n",
      "Epoch 129/285\n",
      "3/3 [==============================] - 0s 5ms/step - loss: 12.0984 - accuracy: 0.0128\n",
      "Epoch 130/285\n",
      "3/3 [==============================] - 0s 5ms/step - loss: 24.1227 - accuracy: 0.0000e+00\n",
      "Epoch 131/285\n",
      "3/3 [==============================] - 0s 4ms/step - loss: 21.1068 - accuracy: 0.0000e+00\n",
      "Epoch 132/285\n",
      "3/3 [==============================] - 0s 5ms/step - loss: 18.4486 - accuracy: 0.0000e+00\n",
      "Epoch 133/285\n",
      "3/3 [==============================] - 0s 4ms/step - loss: 4.1364 - accuracy: 0.0000e+00\n",
      "Epoch 134/285\n",
      "3/3 [==============================] - 0s 4ms/step - loss: 5.7238 - accuracy: 0.0000e+00\n",
      "Epoch 135/285\n",
      "3/3 [==============================] - 0s 4ms/step - loss: 2.9463 - accuracy: 0.0128\n",
      "Epoch 136/285\n",
      "3/3 [==============================] - 0s 4ms/step - loss: 5.1224 - accuracy: 0.0000e+00\n",
      "Epoch 137/285\n",
      "3/3 [==============================] - 0s 4ms/step - loss: 6.3874 - accuracy: 0.0000e+00\n",
      "Epoch 138/285\n",
      "3/3 [==============================] - 0s 5ms/step - loss: 5.5622 - accuracy: 0.0128\n",
      "Epoch 139/285\n",
      "3/3 [==============================] - 0s 5ms/step - loss: 5.0017 - accuracy: 0.0128\n",
      "Epoch 140/285\n",
      "3/3 [==============================] - 0s 4ms/step - loss: 3.8833 - accuracy: 0.0000e+00\n",
      "Epoch 141/285\n",
      "3/3 [==============================] - 0s 5ms/step - loss: 2.5400 - accuracy: 0.0128\n",
      "Epoch 142/285\n",
      "3/3 [==============================] - 0s 4ms/step - loss: 5.0450 - accuracy: 0.0000e+00\n",
      "Epoch 143/285\n",
      "3/3 [==============================] - 0s 4ms/step - loss: 5.1412 - accuracy: 0.0000e+00\n",
      "Epoch 144/285\n",
      "3/3 [==============================] - 0s 4ms/step - loss: 2.6585 - accuracy: 0.0000e+00\n",
      "Epoch 145/285\n",
      "3/3 [==============================] - 0s 4ms/step - loss: 3.2594 - accuracy: 0.0000e+00\n",
      "Epoch 146/285\n",
      "3/3 [==============================] - 0s 4ms/step - loss: 2.5983 - accuracy: 0.0000e+00\n",
      "Epoch 147/285\n",
      "3/3 [==============================] - 0s 5ms/step - loss: 2.9514 - accuracy: 0.0000e+00\n",
      "Epoch 148/285\n",
      "3/3 [==============================] - 0s 5ms/step - loss: 3.8500 - accuracy: 0.0128\n",
      "Epoch 149/285\n",
      "3/3 [==============================] - 0s 4ms/step - loss: 5.9729 - accuracy: 0.0128\n",
      "Epoch 150/285\n",
      "3/3 [==============================] - 0s 4ms/step - loss: 7.8925 - accuracy: 0.0000e+00\n",
      "Epoch 151/285\n",
      "3/3 [==============================] - 0s 5ms/step - loss: 2.8362 - accuracy: 0.0128\n",
      "Epoch 152/285\n",
      "3/3 [==============================] - 0s 5ms/step - loss: 15.9307 - accuracy: 0.0128\n",
      "Epoch 153/285\n",
      "3/3 [==============================] - 0s 4ms/step - loss: 12.8937 - accuracy: 0.0000e+00\n",
      "Epoch 154/285\n",
      "3/3 [==============================] - 0s 5ms/step - loss: 9.0137 - accuracy: 0.0128 \n",
      "Epoch 155/285\n",
      "3/3 [==============================] - 0s 6ms/step - loss: 7.0916 - accuracy: 0.0000e+00\n",
      "Epoch 156/285\n",
      "3/3 [==============================] - 0s 5ms/step - loss: 6.8100 - accuracy: 0.0128\n",
      "Epoch 157/285\n",
      "3/3 [==============================] - 0s 6ms/step - loss: 4.7108 - accuracy: 0.0128\n",
      "Epoch 158/285\n",
      "3/3 [==============================] - 0s 4ms/step - loss: 4.3984 - accuracy: 0.0000e+00\n",
      "Epoch 159/285\n",
      "3/3 [==============================] - 0s 5ms/step - loss: 10.8468 - accuracy: 0.0128\n",
      "Epoch 160/285\n",
      "3/3 [==============================] - 0s 5ms/step - loss: 17.4407 - accuracy: 0.0128\n",
      "Epoch 161/285\n",
      "3/3 [==============================] - 0s 4ms/step - loss: 19.3315 - accuracy: 0.0000e+00\n",
      "Epoch 162/285\n",
      "3/3 [==============================] - 0s 5ms/step - loss: 7.6876 - accuracy: 0.0128\n",
      "Epoch 163/285\n",
      "3/3 [==============================] - 0s 5ms/step - loss: 16.1596 - accuracy: 0.0128\n",
      "Epoch 164/285\n",
      "3/3 [==============================] - 0s 5ms/step - loss: 9.6313 - accuracy: 0.0000e+00\n",
      "Epoch 165/285\n",
      "3/3 [==============================] - 0s 5ms/step - loss: 19.4225 - accuracy: 0.0128\n",
      "Epoch 166/285\n",
      "3/3 [==============================] - 0s 4ms/step - loss: 32.2387 - accuracy: 0.0128\n",
      "Epoch 167/285\n",
      "3/3 [==============================] - 0s 4ms/step - loss: 41.3174 - accuracy: 0.0128\n",
      "Epoch 168/285\n",
      "3/3 [==============================] - 0s 5ms/step - loss: 42.4856 - accuracy: 0.0128\n",
      "Epoch 169/285\n",
      "3/3 [==============================] - 0s 5ms/step - loss: 41.3966 - accuracy: 0.0000e+00\n",
      "Epoch 170/285\n",
      "3/3 [==============================] - 0s 4ms/step - loss: 97.8368 - accuracy: 0.0000e+00\n",
      "Epoch 171/285\n",
      "3/3 [==============================] - 0s 5ms/step - loss: 73.6050 - accuracy: 0.0000e+00\n",
      "Epoch 172/285\n",
      "3/3 [==============================] - 0s 4ms/step - loss: 89.0381 - accuracy: 0.0000e+00\n",
      "Epoch 173/285\n",
      "3/3 [==============================] - 0s 3ms/step - loss: 91.9145 - accuracy: 0.0128\n",
      "Epoch 174/285\n",
      "3/3 [==============================] - 0s 4ms/step - loss: 81.4648 - accuracy: 0.0000e+00\n",
      "Epoch 175/285\n",
      "3/3 [==============================] - 0s 5ms/step - loss: 33.7915 - accuracy: 0.0128\n",
      "Epoch 176/285\n",
      "3/3 [==============================] - 0s 4ms/step - loss: 22.4937 - accuracy: 0.0000e+00\n",
      "Epoch 177/285\n",
      "3/3 [==============================] - 0s 4ms/step - loss: 17.5885 - accuracy: 0.0000e+00\n",
      "Epoch 178/285\n",
      "3/3 [==============================] - 0s 5ms/step - loss: 15.6995 - accuracy: 0.0128\n",
      "Epoch 179/285\n",
      "3/3 [==============================] - 0s 5ms/step - loss: 15.8504 - accuracy: 0.0000e+00\n",
      "Epoch 180/285\n",
      "3/3 [==============================] - 0s 4ms/step - loss: 10.8108 - accuracy: 0.0128\n",
      "Epoch 181/285\n",
      "3/3 [==============================] - 0s 4ms/step - loss: 9.3649 - accuracy: 0.0000e+00\n",
      "Epoch 182/285\n",
      "3/3 [==============================] - 0s 4ms/step - loss: 10.1032 - accuracy: 0.0000e+00\n",
      "Epoch 183/285\n",
      "3/3 [==============================] - 0s 4ms/step - loss: 5.8675 - accuracy: 0.0128\n",
      "Epoch 184/285\n",
      "3/3 [==============================] - 0s 4ms/step - loss: 8.9971 - accuracy: 0.0000e+00\n",
      "Epoch 185/285\n",
      "3/3 [==============================] - 0s 4ms/step - loss: 8.0113 - accuracy: 0.0000e+00\n",
      "Epoch 186/285\n",
      "3/3 [==============================] - 0s 5ms/step - loss: 4.8326 - accuracy: 0.0128\n",
      "Epoch 187/285\n",
      "3/3 [==============================] - 0s 5ms/step - loss: 3.4948 - accuracy: 0.0000e+00\n",
      "Epoch 188/285\n",
      "3/3 [==============================] - 0s 5ms/step - loss: 3.3551 - accuracy: 0.0128\n",
      "Epoch 189/285\n",
      "3/3 [==============================] - 0s 5ms/step - loss: 2.2299 - accuracy: 0.0128\n",
      "Epoch 190/285\n",
      "3/3 [==============================] - 0s 5ms/step - loss: 1.8323 - accuracy: 0.0000e+00\n",
      "Epoch 191/285\n",
      "3/3 [==============================] - 0s 6ms/step - loss: 1.9991 - accuracy: 0.0128\n",
      "Epoch 192/285\n",
      "3/3 [==============================] - 0s 5ms/step - loss: 1.6070 - accuracy: 0.0128\n",
      "Epoch 193/285\n",
      "3/3 [==============================] - 0s 4ms/step - loss: 0.9306 - accuracy: 0.0000e+00\n",
      "Epoch 194/285\n",
      "3/3 [==============================] - 0s 4ms/step - loss: 0.5635 - accuracy: 0.0128\n",
      "Epoch 195/285\n",
      "3/3 [==============================] - 0s 4ms/step - loss: 0.6791 - accuracy: 0.0128\n",
      "Epoch 196/285\n",
      "3/3 [==============================] - 0s 4ms/step - loss: 0.5623 - accuracy: 0.0000e+00\n",
      "Epoch 197/285\n",
      "3/3 [==============================] - 0s 4ms/step - loss: 0.2954 - accuracy: 0.0128\n",
      "Epoch 198/285\n",
      "3/3 [==============================] - 0s 4ms/step - loss: 0.4021 - accuracy: 0.0000e+00\n",
      "Epoch 199/285\n",
      "3/3 [==============================] - 0s 5ms/step - loss: 0.2587 - accuracy: 0.0128\n",
      "Epoch 200/285\n",
      "3/3 [==============================] - 0s 5ms/step - loss: 0.4266 - accuracy: 0.0128\n",
      "Epoch 201/285\n",
      "3/3 [==============================] - 0s 5ms/step - loss: 0.3403 - accuracy: 0.0000e+00\n",
      "Epoch 202/285\n",
      "3/3 [==============================] - 0s 4ms/step - loss: 0.2943 - accuracy: 0.0128\n",
      "Epoch 203/285\n",
      "3/3 [==============================] - 0s 4ms/step - loss: 0.3404 - accuracy: 0.0128\n",
      "Epoch 204/285\n",
      "3/3 [==============================] - 0s 4ms/step - loss: 0.3725 - accuracy: 0.0000e+00\n",
      "Epoch 205/285\n",
      "3/3 [==============================] - 0s 4ms/step - loss: 0.3214 - accuracy: 0.0128\n",
      "Epoch 206/285\n",
      "3/3 [==============================] - 0s 4ms/step - loss: 0.2745 - accuracy: 0.0000e+00\n",
      "Epoch 207/285\n",
      "3/3 [==============================] - 0s 4ms/step - loss: 0.3135 - accuracy: 0.0000e+00\n",
      "Epoch 208/285\n",
      "3/3 [==============================] - 0s 4ms/step - loss: 0.2308 - accuracy: 0.0128\n",
      "Epoch 209/285\n",
      "3/3 [==============================] - 0s 5ms/step - loss: 0.2203 - accuracy: 0.0000e+00\n",
      "Epoch 210/285\n",
      "3/3 [==============================] - 0s 5ms/step - loss: 0.2030 - accuracy: 0.0000e+00\n",
      "Epoch 211/285\n",
      "3/3 [==============================] - 0s 4ms/step - loss: 0.2162 - accuracy: 0.0128\n",
      "Epoch 212/285\n",
      "3/3 [==============================] - 0s 4ms/step - loss: 0.1949 - accuracy: 0.0000e+00\n",
      "Epoch 213/285\n",
      "3/3 [==============================] - 0s 4ms/step - loss: 0.3369 - accuracy: 0.0128\n",
      "Epoch 214/285\n",
      "3/3 [==============================] - 0s 4ms/step - loss: 0.1605 - accuracy: 0.0000e+00\n",
      "Epoch 215/285\n",
      "3/3 [==============================] - 0s 4ms/step - loss: 0.1636 - accuracy: 0.0128\n",
      "Epoch 216/285\n",
      "3/3 [==============================] - 0s 4ms/step - loss: 0.1197 - accuracy: 0.0128\n",
      "Epoch 217/285\n",
      "3/3 [==============================] - 0s 4ms/step - loss: 0.1485 - accuracy: 0.0000e+00\n",
      "Epoch 218/285\n",
      "3/3 [==============================] - 0s 4ms/step - loss: 0.1472 - accuracy: 0.0128\n",
      "Epoch 219/285\n",
      "3/3 [==============================] - 0s 6ms/step - loss: 0.1055 - accuracy: 0.0128\n",
      "Epoch 220/285\n",
      "3/3 [==============================] - 0s 4ms/step - loss: 0.0915 - accuracy: 0.0128\n",
      "Epoch 221/285\n",
      "3/3 [==============================] - 0s 4ms/step - loss: 0.0867 - accuracy: 0.0128\n",
      "Epoch 222/285\n",
      "3/3 [==============================] - 0s 5ms/step - loss: 0.0866 - accuracy: 0.0128\n",
      "Epoch 223/285\n",
      "3/3 [==============================] - 0s 4ms/step - loss: 0.1254 - accuracy: 0.0128\n",
      "Epoch 224/285\n",
      "3/3 [==============================] - 0s 4ms/step - loss: 0.0983 - accuracy: 0.0128\n",
      "Epoch 225/285\n",
      "3/3 [==============================] - 0s 4ms/step - loss: 0.0849 - accuracy: 0.0128\n",
      "Epoch 226/285\n",
      "3/3 [==============================] - 0s 4ms/step - loss: 0.3346 - accuracy: 0.0128\n",
      "Epoch 227/285\n",
      "3/3 [==============================] - 0s 3ms/step - loss: 0.1661 - accuracy: 0.0000e+00\n",
      "Epoch 228/285\n",
      "3/3 [==============================] - 0s 4ms/step - loss: 0.1974 - accuracy: 0.0128\n",
      "Epoch 229/285\n",
      "3/3 [==============================] - 0s 4ms/step - loss: 0.2528 - accuracy: 0.0128\n",
      "Epoch 230/285\n",
      "3/3 [==============================] - 0s 4ms/step - loss: 0.3748 - accuracy: 0.0128\n",
      "Epoch 231/285\n",
      "3/3 [==============================] - 0s 4ms/step - loss: 0.2531 - accuracy: 0.0128\n",
      "Epoch 232/285\n",
      "3/3 [==============================] - 0s 4ms/step - loss: 0.3279 - accuracy: 0.0000e+00\n",
      "Epoch 233/285\n",
      "3/3 [==============================] - 0s 5ms/step - loss: 0.2841 - accuracy: 0.0128\n",
      "Epoch 234/285\n",
      "3/3 [==============================] - 0s 4ms/step - loss: 0.1805 - accuracy: 0.0000e+00\n",
      "Epoch 235/285\n",
      "3/3 [==============================] - 0s 5ms/step - loss: 0.2059 - accuracy: 0.0000e+00\n",
      "Epoch 236/285\n",
      "3/3 [==============================] - 0s 4ms/step - loss: 0.2491 - accuracy: 0.0128\n",
      "Epoch 237/285\n",
      "3/3 [==============================] - 0s 4ms/step - loss: 0.2442 - accuracy: 0.0000e+00\n",
      "Epoch 238/285\n",
      "3/3 [==============================] - 0s 4ms/step - loss: 0.2106 - accuracy: 0.0128\n",
      "Epoch 239/285\n",
      "3/3 [==============================] - 0s 3ms/step - loss: 0.2949 - accuracy: 0.0000e+00\n",
      "Epoch 240/285\n",
      "3/3 [==============================] - 0s 4ms/step - loss: 0.2634 - accuracy: 0.0128\n",
      "Epoch 241/285\n",
      "3/3 [==============================] - 0s 4ms/step - loss: 0.1800 - accuracy: 0.0128\n",
      "Epoch 242/285\n",
      "3/3 [==============================] - 0s 4ms/step - loss: 0.1722 - accuracy: 0.0000e+00\n",
      "Epoch 243/285\n",
      "3/3 [==============================] - 0s 3ms/step - loss: 0.0959 - accuracy: 0.0128\n",
      "Epoch 244/285\n",
      "3/3 [==============================] - 0s 5ms/step - loss: 0.0648 - accuracy: 0.0128\n",
      "Epoch 245/285\n",
      "3/3 [==============================] - 0s 4ms/step - loss: 0.0532 - accuracy: 0.0128\n",
      "Epoch 246/285\n",
      "3/3 [==============================] - 0s 5ms/step - loss: 0.0523 - accuracy: 0.0128\n",
      "Epoch 247/285\n",
      "3/3 [==============================] - 0s 5ms/step - loss: 0.0597 - accuracy: 0.0000e+00\n",
      "Epoch 248/285\n",
      "3/3 [==============================] - 0s 5ms/step - loss: 0.0491 - accuracy: 0.0128\n",
      "Epoch 249/285\n",
      "3/3 [==============================] - 0s 4ms/step - loss: 0.0426 - accuracy: 0.0128\n",
      "Epoch 250/285\n",
      "3/3 [==============================] - 0s 5ms/step - loss: 0.0409 - accuracy: 0.0128\n",
      "Epoch 251/285\n",
      "3/3 [==============================] - 0s 4ms/step - loss: 0.0423 - accuracy: 0.0128\n",
      "Epoch 252/285\n",
      "3/3 [==============================] - 0s 5ms/step - loss: 0.0400 - accuracy: 0.0128\n",
      "Epoch 253/285\n",
      "3/3 [==============================] - 0s 4ms/step - loss: 0.0384 - accuracy: 0.0128\n",
      "Epoch 254/285\n",
      "3/3 [==============================] - 0s 4ms/step - loss: 0.0396 - accuracy: 0.0128\n",
      "Epoch 255/285\n",
      "3/3 [==============================] - 0s 4ms/step - loss: 0.0388 - accuracy: 0.0128\n",
      "Epoch 256/285\n",
      "3/3 [==============================] - 0s 5ms/step - loss: 0.0435 - accuracy: 0.0128\n",
      "Epoch 257/285\n",
      "3/3 [==============================] - 0s 5ms/step - loss: 0.0358 - accuracy: 0.0128\n",
      "Epoch 258/285\n",
      "3/3 [==============================] - 0s 4ms/step - loss: 0.0344 - accuracy: 0.0128\n",
      "Epoch 259/285\n",
      "3/3 [==============================] - 0s 4ms/step - loss: 0.0383 - accuracy: 0.0128\n",
      "Epoch 260/285\n",
      "3/3 [==============================] - 0s 4ms/step - loss: 0.0359 - accuracy: 0.0128\n",
      "Epoch 261/285\n",
      "3/3 [==============================] - 0s 4ms/step - loss: 0.0335 - accuracy: 0.0128\n",
      "Epoch 262/285\n",
      "3/3 [==============================] - 0s 3ms/step - loss: 0.0335 - accuracy: 0.0128\n",
      "Epoch 263/285\n",
      "3/3 [==============================] - 0s 4ms/step - loss: 0.0337 - accuracy: 0.0128\n",
      "Epoch 264/285\n",
      "3/3 [==============================] - 0s 4ms/step - loss: 0.0333 - accuracy: 0.0128\n",
      "Epoch 265/285\n",
      "3/3 [==============================] - 0s 4ms/step - loss: 0.0332 - accuracy: 0.0128\n",
      "Epoch 266/285\n",
      "3/3 [==============================] - 0s 5ms/step - loss: 0.0352 - accuracy: 0.0128\n",
      "Epoch 267/285\n",
      "3/3 [==============================] - 0s 4ms/step - loss: 0.0343 - accuracy: 0.0128\n",
      "Epoch 268/285\n",
      "3/3 [==============================] - 0s 5ms/step - loss: 0.0319 - accuracy: 0.0128\n",
      "Epoch 269/285\n",
      "3/3 [==============================] - 0s 6ms/step - loss: 0.0318 - accuracy: 0.0128\n",
      "Epoch 270/285\n",
      "3/3 [==============================] - 0s 4ms/step - loss: 0.0335 - accuracy: 0.0128\n",
      "Epoch 271/285\n",
      "3/3 [==============================] - 0s 4ms/step - loss: 0.0308 - accuracy: 0.0128\n",
      "Epoch 272/285\n",
      "3/3 [==============================] - 0s 4ms/step - loss: 0.0293 - accuracy: 0.0128\n",
      "Epoch 273/285\n",
      "3/3 [==============================] - 0s 4ms/step - loss: 0.0283 - accuracy: 0.0128\n",
      "Epoch 274/285\n",
      "3/3 [==============================] - 0s 4ms/step - loss: 0.0285 - accuracy: 0.0128\n",
      "Epoch 275/285\n",
      "3/3 [==============================] - 0s 4ms/step - loss: 0.0296 - accuracy: 0.0128\n",
      "Epoch 276/285\n",
      "3/3 [==============================] - 0s 4ms/step - loss: 0.0284 - accuracy: 0.0128\n",
      "Epoch 277/285\n",
      "3/3 [==============================] - 0s 4ms/step - loss: 0.0271 - accuracy: 0.0128\n",
      "Epoch 278/285\n",
      "3/3 [==============================] - 0s 4ms/step - loss: 0.0267 - accuracy: 0.0128\n",
      "Epoch 279/285\n",
      "3/3 [==============================] - 0s 4ms/step - loss: 0.0274 - accuracy: 0.0128\n",
      "Epoch 280/285\n",
      "3/3 [==============================] - 0s 4ms/step - loss: 0.0266 - accuracy: 0.0128\n",
      "Epoch 281/285\n",
      "3/3 [==============================] - 0s 4ms/step - loss: 0.0271 - accuracy: 0.0128\n",
      "Epoch 282/285\n",
      "3/3 [==============================] - 0s 5ms/step - loss: 0.0257 - accuracy: 0.0128\n",
      "Epoch 283/285\n",
      "3/3 [==============================] - 0s 5ms/step - loss: 0.0254 - accuracy: 0.0128\n",
      "Epoch 284/285\n",
      "3/3 [==============================] - 0s 4ms/step - loss: 0.0251 - accuracy: 0.0128\n",
      "Epoch 285/285\n",
      "3/3 [==============================] - 0s 4ms/step - loss: 0.0254 - accuracy: 0.0128\n"
     ]
    },
    {
     "data": {
      "text/plain": "<keras.callbacks.History at 0x212af9bb340>"
     },
     "execution_count": 16,
     "metadata": {},
     "output_type": "execute_result"
    }
   ],
   "source": [
    "model1 = tf.keras.Sequential([\n",
    "    tf.keras.layers.Dense(200, activation=\"relu\"),\n",
    "    tf.keras.layers.Dense(200, activation=\"relu\"),\n",
    "    tf.keras.layers.Dense(100, activation=\"relu\"),\n",
    "    tf.keras.layers.Dense(1)\n",
    "])\n",
    "\n",
    "model1.compile(loss = tf.keras.losses.mse,\n",
    "               optimizer=tf.optimizers.Adam(),\n",
    "               metrics=['accuracy'])\n",
    "model1.fit(X_train, Y_train, epochs = 285)"
   ],
   "metadata": {
    "collapsed": false,
    "ExecuteTime": {
     "end_time": "2023-12-31T01:55:56.037976200Z",
     "start_time": "2023-12-31T01:55:51.106070400Z"
    }
   },
   "id": "7c5e9f4027bc59b3"
  },
  {
   "cell_type": "code",
   "execution_count": 17,
   "outputs": [
    {
     "name": "stdout",
     "output_type": "stream",
     "text": [
      "Model: \"sequential_1\"\n",
      "_________________________________________________________________\n",
      " Layer (type)                Output Shape              Param #   \n",
      "=================================================================\n",
      " dense_2 (Dense)             (None, 200)               400       \n",
      "                                                                 \n",
      " dense_3 (Dense)             (None, 200)               40200     \n",
      "                                                                 \n",
      " dense_4 (Dense)             (None, 100)               20100     \n",
      "                                                                 \n",
      " dense_5 (Dense)             (None, 1)                 101       \n",
      "                                                                 \n",
      "=================================================================\n",
      "Total params: 60,801\n",
      "Trainable params: 60,801\n",
      "Non-trainable params: 0\n",
      "_________________________________________________________________\n"
     ]
    }
   ],
   "source": [
    "model1.summary()"
   ],
   "metadata": {
    "collapsed": false,
    "ExecuteTime": {
     "end_time": "2023-12-31T01:55:56.104096300Z",
     "start_time": "2023-12-31T01:55:56.036470600Z"
    }
   },
   "id": "15b135174ac54a4e"
  },
  {
   "cell_type": "code",
   "execution_count": 18,
   "outputs": [
    {
     "data": {
      "image/png": "[encoded data removed]",
      "text/plain": "<IPython.core.display.Image object>"
     },
     "execution_count": 18,
     "metadata": {},
     "output_type": "execute_result"
    }
   ],
   "source": [
    "from keras.utils import plot_model\n",
    "\n",
    "plot_model(model1, show_shapes=True)"
   ],
   "metadata": {
    "collapsed": false,
    "ExecuteTime": {
     "end_time": "2023-12-31T01:55:56.378588500Z",
     "start_time": "2023-12-31T01:55:56.055053600Z"
    }
   },
   "id": "d8b06b09573a3315"
  },
  {
   "cell_type": "code",
   "execution_count": 19,
   "outputs": [
    {
     "name": "stdout",
     "output_type": "stream",
     "text": [
      "1/1 [==============================] - 0s 46ms/step\n"
     ]
    }
   ],
   "source": [
    "y_pred = model1.predict(X_test)"
   ],
   "metadata": {
    "collapsed": false,
    "ExecuteTime": {
     "end_time": "2023-12-31T01:55:56.458015Z",
     "start_time": "2023-12-31T01:55:56.377082200Z"
    }
   },
   "id": "c07a3b6331bfdc27"
  },
  {
   "cell_type": "code",
   "execution_count": 20,
   "outputs": [
    {
     "data": {
      "text/plain": "<Figure size 1000x700 with 1 Axes>",
      "image/png": "[encoded data removed]"
     },
     "metadata": {},
     "output_type": "display_data"
    }
   ],
   "source": [
    "def plot_predictions(train_data = X_train,\n",
    "                     train_labels = Y_train,\n",
    "                     test_data = X_test,\n",
    "                     test_labels = Y_test,\n",
    "                     predictions = y_pred\n",
    "                     ):\n",
    "    plt.figure(figsize=(10, 7))\n",
    "    plt.scatter(train_data, train_labels, c=\"b\", label=\"Training\")\n",
    "    plt.scatter(test_data, test_labels, c=\"r\", label=\"Testing\")\n",
    "    plt.scatter(test_data, predictions, c=\"g\", label=\"Predictions\")\n",
    "    plt.legend()\n",
    "plot_predictions()"
   ],
   "metadata": {
    "collapsed": false,
    "ExecuteTime": {
     "end_time": "2023-12-31T01:55:56.702008300Z",
     "start_time": "2023-12-31T01:55:56.472555500Z"
    }
   },
   "id": "fa3e3e8e6adfe2a8"
  },
  {
   "cell_type": "code",
   "execution_count": 21,
   "outputs": [
    {
     "name": "stdout",
     "output_type": "stream",
     "text": [
      "1/1 [==============================] - 0s 114ms/step - loss: 7.4554 - accuracy: 0.0000e+00\n"
     ]
    },
    {
     "data": {
      "text/plain": "[7.455435276031494, 0.0]"
     },
     "execution_count": 21,
     "metadata": {},
     "output_type": "execute_result"
    }
   ],
   "source": [
    "model1.evaluate(X_test,Y_test)"
   ],
   "metadata": {
    "collapsed": false,
    "ExecuteTime": {
     "end_time": "2023-12-31T01:55:56.860830300Z",
     "start_time": "2023-12-31T01:55:56.704012900Z"
    }
   },
   "id": "e3b8e612ec478060"
  },
  {
   "cell_type": "code",
   "execution_count": 22,
   "outputs": [
    {
     "name": "stdout",
     "output_type": "stream",
     "text": [
      "INFO:tensorflow:Assets written to: model1_regression\\assets\n"
     ]
    }
   ],
   "source": [
    "model1.save(\"model1_regression\")"
   ],
   "metadata": {
    "collapsed": false,
    "ExecuteTime": {
     "end_time": "2023-12-31T02:09:30.439193500Z",
     "start_time": "2023-12-31T02:09:28.799747800Z"
    }
   },
   "id": "5b853c2a8abdb275"
  },
  {
   "cell_type": "code",
   "execution_count": 23,
   "outputs": [],
   "source": [
    "model1.save(\"model1_regression_HDF5.h5\")"
   ],
   "metadata": {
    "collapsed": false,
    "ExecuteTime": {
     "end_time": "2023-12-31T02:12:05.584503200Z",
     "start_time": "2023-12-31T02:12:04.849147900Z"
    }
   },
   "id": "1ea1a9f38d63dcd5"
  },
  {
   "cell_type": "code",
   "execution_count": 26,
   "outputs": [
    {
     "data": {
      "text/plain": "<keras.engine.sequential.Sequential at 0x214500b4e80>"
     },
     "execution_count": 26,
     "metadata": {},
     "output_type": "execute_result"
    }
   ],
   "source": [
    "model1_loaded = tf.keras.models.load_model(\"model1_regression\")\n",
    "model1_loaded"
   ],
   "metadata": {
    "collapsed": false,
    "ExecuteTime": {
     "end_time": "2023-12-31T02:30:04.022896300Z",
     "start_time": "2023-12-31T02:30:03.659370100Z"
    }
   },
   "id": "da542cd867a32a25"
  },
  {
   "cell_type": "code",
   "execution_count": 27,
   "outputs": [
    {
     "name": "stdout",
     "output_type": "stream",
     "text": [
      "1/1 [==============================] - 0s 72ms/step\n"
     ]
    },
    {
     "data": {
      "text/plain": "array([[390.10086],\n       [395.18552],\n       [400.2906 ],\n       [405.44687],\n       [410.66525],\n       [415.89926],\n       [421.13815],\n       [426.37698],\n       [431.61746],\n       [436.89294],\n       [442.1685 ],\n       [447.44897],\n       [452.73386],\n       [458.01877],\n       [463.31644],\n       [468.65503],\n       [474.03348],\n       [479.42752],\n       [484.8216 ],\n       [490.23196]], dtype=float32)"
     },
     "execution_count": 27,
     "metadata": {},
     "output_type": "execute_result"
    }
   ],
   "source": [
    "model1_loaded.predict(X_test)"
   ],
   "metadata": {
    "collapsed": false,
    "ExecuteTime": {
     "end_time": "2023-12-31T02:30:24.210288300Z",
     "start_time": "2023-12-31T02:30:23.341453800Z"
    }
   },
   "id": "73f8a357b033340c"
  },
  {
   "cell_type": "code",
   "execution_count": 28,
   "outputs": [
    {
     "name": "stdout",
     "output_type": "stream",
     "text": [
      "1/1 [==============================] - 0s 33ms/step\n"
     ]
    },
    {
     "data": {
      "text/plain": "<Figure size 1000x700 with 1 Axes>",
      "image/png": "[encoded data removed]"
     },
     "metadata": {},
     "output_type": "display_data"
    }
   ],
   "source": [
    "plot_predictions(predictions=model1_loaded.predict(X_test))"
   ],
   "metadata": {
    "collapsed": false,
    "ExecuteTime": {
     "end_time": "2023-12-31T02:30:54.059098800Z",
     "start_time": "2023-12-31T02:30:52.915025Z"
    }
   },
   "id": "944289ff576cb619"
  },
  {
   "cell_type": "code",
   "execution_count": 29,
   "outputs": [
    {
     "data": {
      "text/plain": "<keras.engine.sequential.Sequential at 0x212afb70460>"
     },
     "execution_count": 29,
     "metadata": {},
     "output_type": "execute_result"
    }
   ],
   "source": [
    "model1_loaded_h5 = tf.keras.models.load_model(\"model1_regression_HDF5.h5\")\n",
    "model1_loaded_h5"
   ],
   "metadata": {
    "collapsed": false,
    "ExecuteTime": {
     "end_time": "2023-12-31T02:31:56.893729700Z",
     "start_time": "2023-12-31T02:31:56.794170900Z"
    }
   },
   "id": "336442219455af9"
  },
  {
   "cell_type": "code",
   "execution_count": 30,
   "outputs": [
    {
     "name": "stdout",
     "output_type": "stream",
     "text": [
      "1/1 [==============================] - 0s 38ms/step\n"
     ]
    },
    {
     "data": {
      "text/plain": "<Figure size 1000x700 with 1 Axes>",
      "image/png": "[encoded data removed]"
     },
     "metadata": {},
     "output_type": "display_data"
    }
   ],
   "source": [
    "plot_predictions(predictions=model1_loaded_h5.predict(X_test))"
   ],
   "metadata": {
    "collapsed": false,
    "ExecuteTime": {
     "end_time": "2023-12-31T02:32:13.660098100Z",
     "start_time": "2023-12-31T02:32:13.456841600Z"
    }
   },
   "id": "f4446f4569b9c78f"
  },
  {
   "cell_type": "code",
   "execution_count": null,
   "outputs": [],
   "source": [],
   "metadata": {
    "collapsed": false
   },
   "id": "3657db3f9c3d3245"
  }
 ],
 "metadata": {
  "kernelspec": {
   "display_name": "Python 3",
   "language": "python",
   "name": "python3"
  },
  "language_info": {
   "codemirror_mode": {
    "name": "ipython",
    "version": 2
   },
   "file_extension": ".py",
   "mimetype": "text/x-python",
   "name": "python",
   "nbconvert_exporter": "python",
   "pygments_lexer": "ipython2",
   "version": "2.7.6"
  }
 },
 "nbformat": 4,
 "nbformat_minor": 5
}
