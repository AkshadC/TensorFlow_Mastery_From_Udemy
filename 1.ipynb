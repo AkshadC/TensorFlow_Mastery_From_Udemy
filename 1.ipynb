{
 "cells": [
  {
   "cell_type": "code",
   "execution_count": 2,
   "id": "initial_id",
   "metadata": {
    "collapsed": true,
    "ExecuteTime": {
     "end_time": "2023-12-29T20:51:02.638802300Z",
     "start_time": "2023-12-29T20:50:57.066036500Z"
    }
   },
   "outputs": [],
   "source": [
    "import math\n",
    "\n",
    "import tensorflow as tf\n",
    "import numpy as np"
   ]
  },
  {
   "cell_type": "code",
   "execution_count": 30,
   "outputs": [
    {
     "data": {
      "text/plain": "'2.10.1'"
     },
     "execution_count": 30,
     "metadata": {},
     "output_type": "execute_result"
    }
   ],
   "source": [
    "tf.__version__"
   ],
   "metadata": {
    "collapsed": false,
    "ExecuteTime": {
     "end_time": "2023-12-29T16:53:00.846423900Z",
     "start_time": "2023-12-29T16:53:00.722876Z"
    }
   },
   "id": "8098b7fc2f0f6634"
  },
  {
   "cell_type": "code",
   "execution_count": 31,
   "outputs": [
    {
     "data": {
      "text/plain": "<tf.Tensor: shape=(), dtype=int32, numpy=7>"
     },
     "execution_count": 31,
     "metadata": {},
     "output_type": "execute_result"
    }
   ],
   "source": [
    "dummy_scalar = tf.constant(7)\n",
    "dummy_scalar"
   ],
   "metadata": {
    "collapsed": false,
    "ExecuteTime": {
     "end_time": "2023-12-29T16:53:00.846933900Z",
     "start_time": "2023-12-29T16:53:00.739393100Z"
    }
   },
   "id": "8407c41b4afdba3a"
  },
  {
   "cell_type": "code",
   "execution_count": 32,
   "outputs": [
    {
     "data": {
      "text/plain": "0"
     },
     "execution_count": 32,
     "metadata": {},
     "output_type": "execute_result"
    }
   ],
   "source": [
    "dummy_scalar.ndim"
   ],
   "metadata": {
    "collapsed": false,
    "ExecuteTime": {
     "end_time": "2023-12-29T16:53:00.848678900Z",
     "start_time": "2023-12-29T16:53:00.753655500Z"
    }
   },
   "id": "225bc10643d9e2d"
  },
  {
   "cell_type": "code",
   "execution_count": 33,
   "outputs": [
    {
     "data": {
      "text/plain": "<tf.Tensor: shape=(2,), dtype=int32, numpy=array([10, 11])>"
     },
     "execution_count": 33,
     "metadata": {},
     "output_type": "execute_result"
    }
   ],
   "source": [
    "dummy_vector = tf.constant([10,11])\n",
    "dummy_vector"
   ],
   "metadata": {
    "collapsed": false,
    "ExecuteTime": {
     "end_time": "2023-12-29T16:53:00.848678900Z",
     "start_time": "2023-12-29T16:53:00.770505700Z"
    }
   },
   "id": "657100b9fa1e171"
  },
  {
   "cell_type": "code",
   "execution_count": 34,
   "outputs": [
    {
     "data": {
      "text/plain": "1"
     },
     "execution_count": 34,
     "metadata": {},
     "output_type": "execute_result"
    }
   ],
   "source": [
    "dummy_vector.ndim"
   ],
   "metadata": {
    "collapsed": false,
    "ExecuteTime": {
     "end_time": "2023-12-29T16:53:00.848678900Z",
     "start_time": "2023-12-29T16:53:00.784288500Z"
    }
   },
   "id": "2a102dcb41b877df"
  },
  {
   "cell_type": "code",
   "execution_count": 35,
   "outputs": [
    {
     "data": {
      "text/plain": "<tf.Tensor: shape=(2, 3), dtype=int32, numpy=\narray([[1, 2, 3],\n       [4, 5, 6]])>"
     },
     "execution_count": 35,
     "metadata": {},
     "output_type": "execute_result"
    }
   ],
   "source": [
    "dummy_matrix = tf.constant([[1,2,3],\n",
    "                            [4,5,6]])\n",
    "dummy_matrix"
   ],
   "metadata": {
    "collapsed": false,
    "ExecuteTime": {
     "end_time": "2023-12-29T16:53:00.849685100Z",
     "start_time": "2023-12-29T16:53:00.798739900Z"
    }
   },
   "id": "e4e40e3247a77cde"
  },
  {
   "cell_type": "code",
   "execution_count": 36,
   "outputs": [
    {
     "data": {
      "text/plain": "2"
     },
     "execution_count": 36,
     "metadata": {},
     "output_type": "execute_result"
    }
   ],
   "source": [
    "dummy_matrix.ndim"
   ],
   "metadata": {
    "collapsed": false,
    "ExecuteTime": {
     "end_time": "2023-12-29T16:53:00.849685100Z",
     "start_time": "2023-12-29T16:53:00.815296600Z"
    }
   },
   "id": "2ab7350aa659ae36"
  },
  {
   "cell_type": "code",
   "execution_count": 37,
   "outputs": [
    {
     "data": {
      "text/plain": "<tf.Tensor: shape=(2, 3), dtype=float32, numpy=\narray([[1., 2., 4.],\n       [4., 5., 6.]], dtype=float32)>"
     },
     "execution_count": 37,
     "metadata": {},
     "output_type": "execute_result"
    }
   ],
   "source": [
    "dummy_matrix1 = tf.constant([[1.,2.,4.],\n",
    "                            [4.,5.,6.]], dtype=tf.float32)\n",
    "dummy_matrix1"
   ],
   "metadata": {
    "collapsed": false,
    "ExecuteTime": {
     "end_time": "2023-12-29T16:53:00.849685100Z",
     "start_time": "2023-12-29T16:53:00.832256600Z"
    }
   },
   "id": "40b12708640424d0"
  },
  {
   "cell_type": "code",
   "execution_count": 38,
   "outputs": [
    {
     "data": {
      "text/plain": "2"
     },
     "execution_count": 38,
     "metadata": {},
     "output_type": "execute_result"
    }
   ],
   "source": [
    "dummy_matrix1.ndim"
   ],
   "metadata": {
    "collapsed": false,
    "ExecuteTime": {
     "end_time": "2023-12-29T16:53:00.874660200Z",
     "start_time": "2023-12-29T16:53:00.847444400Z"
    }
   },
   "id": "be28019dd874f6df"
  },
  {
   "cell_type": "code",
   "execution_count": 39,
   "outputs": [
    {
     "data": {
      "text/plain": "<tf.Tensor: shape=(1, 3, 3), dtype=int32, numpy=\narray([[[10, 11, 12],\n        [13, 14, 15],\n        [16, 17, 18]]])>"
     },
     "execution_count": 39,
     "metadata": {},
     "output_type": "execute_result"
    }
   ],
   "source": [
    "tensor = tf.constant([[[10, 11, 12],\n",
    "                       [13, 14 ,15],\n",
    "                       [16, 17, 18]]])\n",
    "tensor"
   ],
   "metadata": {
    "collapsed": false,
    "ExecuteTime": {
     "end_time": "2023-12-29T16:53:01.014275500Z",
     "start_time": "2023-12-29T16:53:00.861649600Z"
    }
   },
   "id": "be77380f58b529b5"
  },
  {
   "cell_type": "code",
   "execution_count": 40,
   "outputs": [
    {
     "data": {
      "text/plain": "3"
     },
     "execution_count": 40,
     "metadata": {},
     "output_type": "execute_result"
    }
   ],
   "source": [
    "tensor.ndim"
   ],
   "metadata": {
    "collapsed": false,
    "ExecuteTime": {
     "end_time": "2023-12-29T16:53:01.016785400Z",
     "start_time": "2023-12-29T16:53:00.877166700Z"
    }
   },
   "id": "945fba8b908455f"
  },
  {
   "cell_type": "code",
   "execution_count": 41,
   "outputs": [
    {
     "data": {
      "text/plain": "<tf.Variable 'Variable:0' shape=(2,) dtype=int32, numpy=array([6, 9])>"
     },
     "execution_count": 41,
     "metadata": {},
     "output_type": "execute_result"
    }
   ],
   "source": [
    "#Changeable Tensor\n",
    "updatable_tensor = tf.Variable([6, 9])\n",
    "updatable_tensor"
   ],
   "metadata": {
    "collapsed": false,
    "ExecuteTime": {
     "end_time": "2023-12-29T16:53:01.017308500Z",
     "start_time": "2023-12-29T16:53:00.891958900Z"
    }
   },
   "id": "e599dbcc4b1b010b"
  },
  {
   "cell_type": "code",
   "execution_count": 42,
   "outputs": [
    {
     "ename": "TypeError",
     "evalue": "'ResourceVariable' object does not support item assignment",
     "output_type": "error",
     "traceback": [
      "\u001B[1;31m---------------------------------------------------------------------------\u001B[0m",
      "\u001B[1;31mTypeError\u001B[0m                                 Traceback (most recent call last)",
      "Cell \u001B[1;32mIn[42], line 1\u001B[0m\n\u001B[1;32m----> 1\u001B[0m \u001B[43mupdatable_tensor\u001B[49m\u001B[43m[\u001B[49m\u001B[38;5;241;43m0\u001B[39;49m\u001B[43m]\u001B[49m \u001B[38;5;241m=\u001B[39m \u001B[38;5;241m11\u001B[39m\n",
      "\u001B[1;31mTypeError\u001B[0m: 'ResourceVariable' object does not support item assignment"
     ]
    }
   ],
   "source": [
    "updatable_tensor[0] = 11\n"
   ],
   "metadata": {
    "collapsed": false,
    "ExecuteTime": {
     "end_time": "2023-12-29T16:53:01.018669700Z",
     "start_time": "2023-12-29T16:53:00.920481200Z"
    }
   },
   "id": "a2166f19f5694e99"
  },
  {
   "cell_type": "code",
   "execution_count": 44,
   "outputs": [
    {
     "data": {
      "text/plain": "<tf.Variable 'Variable:0' shape=(2,) dtype=int32, numpy=array([69,  9])>"
     },
     "execution_count": 44,
     "metadata": {},
     "output_type": "execute_result"
    }
   ],
   "source": [
    "updatable_tensor[0].assign(69)\n",
    "updatable_tensor"
   ],
   "metadata": {
    "collapsed": false,
    "ExecuteTime": {
     "end_time": "2023-12-29T16:53:07.507305900Z",
     "start_time": "2023-12-29T16:53:07.475443200Z"
    }
   },
   "id": "ddb312b8e0ce430e"
  },
  {
   "cell_type": "code",
   "execution_count": 45,
   "outputs": [
    {
     "data": {
      "text/plain": "(<tf.Tensor: shape=(3, 2), dtype=float32, numpy=\n array([[ 0.6356361 , -0.08795371],\n        [-1.3398387 , -0.00641572],\n        [-1.1475449 ,  0.6519857 ]], dtype=float32)>,\n <tf.Tensor: shape=(3, 2), dtype=float32, numpy=\n array([[ 0.6356361 , -0.08795371],\n        [-1.3398387 , -0.00641572],\n        [-1.1475449 ,  0.6519857 ]], dtype=float32)>,\n <tf.Tensor: shape=(3, 2), dtype=bool, numpy=\n array([[ True,  True],\n        [ True,  True],\n        [ True,  True]])>)"
     },
     "execution_count": 45,
     "metadata": {},
     "output_type": "execute_result"
    }
   ],
   "source": [
    "#Random Tensors\n",
    "random_tensor1 = tf.random.Generator.from_seed(420)\n",
    "random_tensor1 = random_tensor1.normal(shape=(3, 2))\n",
    "\n",
    "random_tensor2 = tf.random.Generator.from_seed(420)\n",
    "random_tensor2 = random_tensor2.normal(shape=(3, 2))\n",
    "random_tensor1, random_tensor2, random_tensor2 == random_tensor1"
   ],
   "metadata": {
    "collapsed": false,
    "ExecuteTime": {
     "end_time": "2023-12-29T16:53:09.589024300Z",
     "start_time": "2023-12-29T16:53:09.427505900Z"
    }
   },
   "id": "8461e42892fd4fee"
  },
  {
   "cell_type": "code",
   "execution_count": 46,
   "outputs": [
    {
     "data": {
      "text/plain": "<tf.Tensor: shape=(3, 2), dtype=int32, numpy=\narray([[1, 2],\n       [3, 4],\n       [5, 6]])>"
     },
     "execution_count": 46,
     "metadata": {},
     "output_type": "execute_result"
    }
   ],
   "source": [
    "#Shuffle a tensor\n",
    "to_be_shuffled = tf.constant([[1, 2],\n",
    "                              [3, 4],\n",
    "                              [5, 6]])\n",
    "to_be_shuffled"
   ],
   "metadata": {
    "collapsed": false,
    "ExecuteTime": {
     "end_time": "2023-12-29T16:53:11.489765Z",
     "start_time": "2023-12-29T16:53:11.468241700Z"
    }
   },
   "id": "7a62596844dff67f"
  },
  {
   "cell_type": "code",
   "execution_count": 47,
   "outputs": [
    {
     "data": {
      "text/plain": "<tf.Tensor: shape=(3, 2), dtype=int32, numpy=\narray([[5, 6],\n       [1, 2],\n       [3, 4]])>"
     },
     "execution_count": 47,
     "metadata": {},
     "output_type": "execute_result"
    }
   ],
   "source": [
    "tf.random.set_seed(69)\n",
    "tf.random.shuffle(to_be_shuffled, seed= 69)"
   ],
   "metadata": {
    "collapsed": false,
    "ExecuteTime": {
     "end_time": "2023-12-29T16:53:14.302982800Z",
     "start_time": "2023-12-29T16:53:14.248976400Z"
    }
   },
   "id": "327e0651ea552174"
  },
  {
   "cell_type": "code",
   "execution_count": 48,
   "outputs": [
    {
     "data": {
      "text/plain": "<tf.Tensor: shape=(3, 2), dtype=int32, numpy=\narray([[1, 2],\n       [3, 4],\n       [5, 6]])>"
     },
     "execution_count": 48,
     "metadata": {},
     "output_type": "execute_result"
    }
   ],
   "source": [
    "tf.random.set_seed(42)\n",
    "tf.random.shuffle(to_be_shuffled, seed= 42)"
   ],
   "metadata": {
    "collapsed": false,
    "ExecuteTime": {
     "end_time": "2023-12-29T16:53:16.030116800Z",
     "start_time": "2023-12-29T16:53:15.980910200Z"
    }
   },
   "id": "1d550258908bb27c"
  },
  {
   "cell_type": "code",
   "execution_count": 49,
   "outputs": [
    {
     "data": {
      "text/plain": "<tf.Tensor: shape=(3, 2), dtype=int32, numpy=\narray([[1, 1],\n       [1, 1],\n       [1, 1]])>"
     },
     "execution_count": 49,
     "metadata": {},
     "output_type": "execute_result"
    }
   ],
   "source": [
    "tf.ones(shape=(3, 2), dtype=  tf.int32)"
   ],
   "metadata": {
    "collapsed": false,
    "ExecuteTime": {
     "end_time": "2023-12-29T16:53:17.642712800Z",
     "start_time": "2023-12-29T16:53:17.594827500Z"
    }
   },
   "id": "cd5ce7f64e9b3856"
  },
  {
   "cell_type": "code",
   "execution_count": 50,
   "outputs": [
    {
     "data": {
      "text/plain": "array([ 1,  2,  3,  4,  5,  6,  7,  8,  9, 10, 11, 12, 13, 14, 15, 16, 17,\n       18, 19, 20, 21, 22, 23, 24])"
     },
     "execution_count": 50,
     "metadata": {},
     "output_type": "execute_result"
    }
   ],
   "source": [
    "numpy_array = np.arange(1, 25, dtype = np.int32)\n",
    "numpy_array"
   ],
   "metadata": {
    "collapsed": false,
    "ExecuteTime": {
     "end_time": "2023-12-29T16:53:19.771550600Z",
     "start_time": "2023-12-29T16:53:19.767434700Z"
    }
   },
   "id": "25eb1168f44e3c59"
  },
  {
   "cell_type": "code",
   "execution_count": 51,
   "outputs": [
    {
     "data": {
      "text/plain": "<tf.Tensor: shape=(2, 4, 3), dtype=int32, numpy=\narray([[[ 1,  2,  3],\n        [ 4,  5,  6],\n        [ 7,  8,  9],\n        [10, 11, 12]],\n\n       [[13, 14, 15],\n        [16, 17, 18],\n        [19, 20, 21],\n        [22, 23, 24]]])>"
     },
     "execution_count": 51,
     "metadata": {},
     "output_type": "execute_result"
    }
   ],
   "source": [
    "tensor_from_np = tf.constant(numpy_array, shape = (2, 4, 3))\n",
    "tensor_from_np"
   ],
   "metadata": {
    "collapsed": false,
    "ExecuteTime": {
     "end_time": "2023-12-29T16:53:21.803337200Z",
     "start_time": "2023-12-29T16:53:21.755298Z"
    }
   },
   "id": "9781f54dfcf3d51"
  },
  {
   "cell_type": "code",
   "execution_count": 52,
   "outputs": [
    {
     "data": {
      "text/plain": "24"
     },
     "execution_count": 52,
     "metadata": {},
     "output_type": "execute_result"
    }
   ],
   "source": [
    "tf.size(tensor_from_np).numpy()"
   ],
   "metadata": {
    "collapsed": false,
    "ExecuteTime": {
     "end_time": "2023-12-29T16:53:24.829840900Z",
     "start_time": "2023-12-29T16:53:24.827313500Z"
    }
   },
   "id": "854206023f3e728"
  },
  {
   "cell_type": "code",
   "execution_count": 53,
   "outputs": [
    {
     "data": {
      "text/plain": "<tf.Tensor: shape=(4, 3), dtype=int32, numpy=\narray([[ 1,  2,  3],\n       [ 4,  5,  6],\n       [ 7,  8,  9],\n       [10, 11, 12]])>"
     },
     "execution_count": 53,
     "metadata": {},
     "output_type": "execute_result"
    }
   ],
   "source": [
    "tensor_from_np[0]"
   ],
   "metadata": {
    "collapsed": false,
    "ExecuteTime": {
     "end_time": "2023-12-29T16:53:26.240710200Z",
     "start_time": "2023-12-29T16:53:26.192593100Z"
    }
   },
   "id": "28a7af681e909464"
  },
  {
   "cell_type": "code",
   "execution_count": 54,
   "outputs": [
    {
     "data": {
      "text/plain": "<tf.Tensor: shape=(2, 3, 4, 5), dtype=int32, numpy=\narray([[[[0, 0, 0, 0, 0],\n         [0, 0, 0, 0, 0],\n         [0, 0, 0, 0, 0],\n         [0, 0, 0, 0, 0]],\n\n        [[0, 0, 0, 0, 0],\n         [0, 0, 0, 0, 0],\n         [0, 0, 0, 0, 0],\n         [0, 0, 0, 0, 0]],\n\n        [[0, 0, 0, 0, 0],\n         [0, 0, 0, 0, 0],\n         [0, 0, 0, 0, 0],\n         [0, 0, 0, 0, 0]]],\n\n\n       [[[0, 0, 0, 0, 0],\n         [0, 0, 0, 0, 0],\n         [0, 0, 0, 0, 0],\n         [0, 0, 0, 0, 0]],\n\n        [[0, 0, 0, 0, 0],\n         [0, 0, 0, 0, 0],\n         [0, 0, 0, 0, 0],\n         [0, 0, 0, 0, 0]],\n\n        [[0, 0, 0, 0, 0],\n         [0, 0, 0, 0, 0],\n         [0, 0, 0, 0, 0],\n         [0, 0, 0, 0, 0]]]])>"
     },
     "execution_count": 54,
     "metadata": {},
     "output_type": "execute_result"
    }
   ],
   "source": [
    "rank_4_tensors = tf.zeros(shape = [2,3,4,5], dtype = tf.int32)\n",
    "rank_4_tensors"
   ],
   "metadata": {
    "collapsed": false,
    "ExecuteTime": {
     "end_time": "2023-12-29T16:53:28.574500100Z",
     "start_time": "2023-12-29T16:53:28.527493100Z"
    }
   },
   "id": "95b3ef619d5faa96"
  },
  {
   "cell_type": "code",
   "execution_count": 55,
   "outputs": [
    {
     "data": {
      "text/plain": "<tf.Tensor: shape=(1, 1, 1, 5), dtype=int32, numpy=array([[[[0, 0, 0, 0, 0]]]])>"
     },
     "execution_count": 55,
     "metadata": {},
     "output_type": "execute_result"
    }
   ],
   "source": [
    "rank_4_tensors[:1, :1, :1, :]"
   ],
   "metadata": {
    "collapsed": false,
    "ExecuteTime": {
     "end_time": "2023-12-29T16:53:30.948738600Z",
     "start_time": "2023-12-29T16:53:30.911828400Z"
    }
   },
   "id": "bce96a87d514dfc3"
  },
  {
   "cell_type": "code",
   "execution_count": 56,
   "outputs": [
    {
     "data": {
      "text/plain": "2"
     },
     "execution_count": 56,
     "metadata": {},
     "output_type": "execute_result"
    }
   ],
   "source": [
    "rank_2_tensor = tf.constant([[10, 7], \n",
    "                             [3, 4]])\n",
    "rank_2_tensor.ndim"
   ],
   "metadata": {
    "collapsed": false,
    "ExecuteTime": {
     "end_time": "2023-12-29T16:53:32.611802900Z",
     "start_time": "2023-12-29T16:53:32.597495900Z"
    }
   },
   "id": "d51c47d26bc204d9"
  },
  {
   "cell_type": "code",
   "execution_count": 57,
   "outputs": [
    {
     "data": {
      "text/plain": "<tf.Tensor: shape=(2,), dtype=int32, numpy=array([7, 4])>"
     },
     "execution_count": 57,
     "metadata": {},
     "output_type": "execute_result"
    }
   ],
   "source": [
    "rank_2_tensor[:, -1]"
   ],
   "metadata": {
    "collapsed": false,
    "ExecuteTime": {
     "end_time": "2023-12-29T16:53:34.337644700Z",
     "start_time": "2023-12-29T16:53:34.317078100Z"
    }
   },
   "id": "8f1384e4255ce6db"
  },
  {
   "cell_type": "code",
   "execution_count": 58,
   "outputs": [
    {
     "data": {
      "text/plain": "<tf.Tensor: shape=(2, 2, 1), dtype=int32, numpy=\narray([[[10],\n        [ 7]],\n\n       [[ 3],\n        [ 4]]])>"
     },
     "execution_count": 58,
     "metadata": {},
     "output_type": "execute_result"
    }
   ],
   "source": [
    "#add dim to rank 2\n",
    "rank_3_tensor = rank_2_tensor[..., tf.newaxis]\n",
    "rank_3_tensor"
   ],
   "metadata": {
    "collapsed": false,
    "ExecuteTime": {
     "end_time": "2023-12-29T16:53:36.208153800Z",
     "start_time": "2023-12-29T16:53:36.198210900Z"
    }
   },
   "id": "e8fdcffede4c5c91"
  },
  {
   "cell_type": "code",
   "execution_count": 59,
   "outputs": [
    {
     "data": {
      "text/plain": "<tf.Tensor: shape=(2, 1, 2), dtype=int32, numpy=\narray([[[10,  7]],\n\n       [[ 3,  4]]])>"
     },
     "execution_count": 59,
     "metadata": {},
     "output_type": "execute_result"
    }
   ],
   "source": [
    "#ALternative to tf.new-axis\n",
    "tf.expand_dims(rank_2_tensor, axis=1)"
   ],
   "metadata": {
    "collapsed": false,
    "ExecuteTime": {
     "end_time": "2023-12-29T16:53:38.101787300Z",
     "start_time": "2023-12-29T16:53:38.088227600Z"
    }
   },
   "id": "bbedadc8b0f4de44"
  },
  {
   "cell_type": "code",
   "execution_count": 62,
   "outputs": [
    {
     "data": {
      "text/plain": "<tf.Tensor: shape=(3, 2), dtype=int32, numpy=\narray([[20, 59],\n       [34, 57],\n       [30, 60]])>"
     },
     "execution_count": 62,
     "metadata": {},
     "output_type": "execute_result"
    }
   ],
   "source": [
    "#Tensor matrix Multiplication\n",
    "tensor1 = tf.constant([[1, 2, 5], [7, 2, 1], [3, 3, 3]])\n",
    "tensor2 = tf.constant([[3, 5], \n",
    "                       [6, 7], \n",
    "                       [1, 8]])\n",
    "tf.matmul(tensor1, tensor2)"
   ],
   "metadata": {
    "collapsed": false,
    "ExecuteTime": {
     "end_time": "2023-12-29T17:05:00.749133500Z",
     "start_time": "2023-12-29T17:05:00.735941400Z"
    }
   },
   "id": "742187238d0814db"
  },
  {
   "cell_type": "code",
   "execution_count": 61,
   "outputs": [
    {
     "data": {
      "text/plain": "<tf.Tensor: shape=(2, 2), dtype=int32, numpy=\narray([[ 5, 12],\n       [21, 32]])>"
     },
     "execution_count": 61,
     "metadata": {},
     "output_type": "execute_result"
    }
   ],
   "source": [
    "tensor1 * tensor2"
   ],
   "metadata": {
    "collapsed": false,
    "ExecuteTime": {
     "end_time": "2023-12-29T17:03:42.616810800Z",
     "start_time": "2023-12-29T17:03:42.600319500Z"
    }
   },
   "id": "7ab20e660a5f2cf1"
  },
  {
   "cell_type": "code",
   "execution_count": 63,
   "outputs": [
    {
     "data": {
      "text/plain": "<tf.Tensor: shape=(3, 2), dtype=int32, numpy=\narray([[20, 59],\n       [34, 57],\n       [30, 60]])>"
     },
     "execution_count": 63,
     "metadata": {},
     "output_type": "execute_result"
    }
   ],
   "source": [
    "tensor1 @ tensor2"
   ],
   "metadata": {
    "collapsed": false,
    "ExecuteTime": {
     "end_time": "2023-12-29T17:05:37.881403700Z",
     "start_time": "2023-12-29T17:05:37.835702100Z"
    }
   },
   "id": "bbf655b87d5bc186"
  },
  {
   "cell_type": "code",
   "execution_count": 65,
   "outputs": [
    {
     "data": {
      "text/plain": "<tf.Tensor: shape=(2, 3), dtype=int32, numpy=\narray([[3, 6, 1],\n       [5, 7, 8]])>"
     },
     "execution_count": 65,
     "metadata": {},
     "output_type": "execute_result"
    }
   ],
   "source": [
    "tf.transpose(tensor2)"
   ],
   "metadata": {
    "collapsed": false,
    "ExecuteTime": {
     "end_time": "2023-12-29T17:11:12.006330700Z",
     "start_time": "2023-12-29T17:11:11.998757900Z"
    }
   },
   "id": "9721f2a8dac6d090"
  },
  {
   "cell_type": "code",
   "execution_count": 67,
   "outputs": [
    {
     "data": {
      "text/plain": "<tf.Tensor: shape=(2, 3), dtype=int32, numpy=\narray([[3, 5, 6],\n       [7, 1, 8]])>"
     },
     "execution_count": 67,
     "metadata": {},
     "output_type": "execute_result"
    }
   ],
   "source": [
    "tf.reshape(tensor2, shape=(2, 3))"
   ],
   "metadata": {
    "collapsed": false,
    "ExecuteTime": {
     "end_time": "2023-12-29T17:13:36.451399100Z",
     "start_time": "2023-12-29T17:13:36.442331400Z"
    }
   },
   "id": "7f96c5bd32b2a956"
  },
  {
   "cell_type": "code",
   "execution_count": 3,
   "outputs": [
    {
     "data": {
      "text/plain": "tf.int32"
     },
     "execution_count": 3,
     "metadata": {},
     "output_type": "execute_result"
    }
   ],
   "source": [
    "t1 = tf.constant([10, 11])\n",
    "t1.dtype"
   ],
   "metadata": {
    "collapsed": false,
    "ExecuteTime": {
     "end_time": "2023-12-29T20:51:04.619035500Z",
     "start_time": "2023-12-29T20:51:04.610035200Z"
    }
   },
   "id": "152c924ec7d6693e"
  },
  {
   "cell_type": "code",
   "execution_count": 4,
   "outputs": [
    {
     "data": {
      "text/plain": "<tf.Tensor: shape=(2,), dtype=int16, numpy=array([10, 11], dtype=int16)>"
     },
     "execution_count": 4,
     "metadata": {},
     "output_type": "execute_result"
    }
   ],
   "source": [
    "tf.cast(t1, dtype=tf.int16)"
   ],
   "metadata": {
    "collapsed": false,
    "ExecuteTime": {
     "end_time": "2023-12-29T20:51:14.893894300Z",
     "start_time": "2023-12-29T20:51:14.760250Z"
    }
   },
   "id": "be7c6e2a1d6ef841"
  },
  {
   "cell_type": "code",
   "execution_count": 6,
   "outputs": [
    {
     "data": {
      "text/plain": "<tf.Tensor: shape=(2,), dtype=int32, numpy=array([1, 2])>"
     },
     "execution_count": 6,
     "metadata": {},
     "output_type": "execute_result"
    }
   ],
   "source": [
    "#Aggregation on tensors\n",
    "d = tf.constant([-1, 2])\n",
    "tf.abs(d)"
   ],
   "metadata": {
    "collapsed": false,
    "ExecuteTime": {
     "end_time": "2023-12-29T20:55:03.165522800Z",
     "start_time": "2023-12-29T20:55:03.147121900Z"
    }
   },
   "id": "d057863b31b6eb57"
  },
  {
   "cell_type": "code",
   "execution_count": 10,
   "outputs": [
    {
     "data": {
      "text/plain": "<tf.Tensor: shape=(50,), dtype=int32, numpy=\narray([68, 72, 95, 14, 40, 27, 33, 59, 50,  6, 85, 84,  7, 35, 92,  3, 43,\n       43, 80, 68, 28, 95, 10, 24,  6, 79, 36, 81, 91,  3, 91, 31, 49, 57,\n       96, 37, 48, 53, 18, 18, 33, 69, 39, 96, 25, 26, 66, 46, 94, 49])>"
     },
     "execution_count": 10,
     "metadata": {},
     "output_type": "execute_result"
    }
   ],
   "source": [
    "random1 = tf.constant(np.random.randint(0, 100, size=50))\n",
    "random1"
   ],
   "metadata": {
    "collapsed": false,
    "ExecuteTime": {
     "end_time": "2023-12-29T20:56:58.121888600Z",
     "start_time": "2023-12-29T20:56:58.108718500Z"
    }
   },
   "id": "f74f9e1c729ec90e"
  },
  {
   "cell_type": "code",
   "execution_count": null,
   "outputs": [],
   "source": [],
   "metadata": {
    "collapsed": false
   },
   "id": "5e0223708a1e6b91"
  },
  {
   "cell_type": "code",
   "execution_count": 11,
   "outputs": [
    {
     "data": {
      "text/plain": "<tf.Tensor: shape=(), dtype=int32, numpy=3>"
     },
     "execution_count": 11,
     "metadata": {},
     "output_type": "execute_result"
    }
   ],
   "source": [
    "tf.reduce_min(random1)"
   ],
   "metadata": {
    "collapsed": false,
    "ExecuteTime": {
     "end_time": "2023-12-29T20:57:19.687011100Z",
     "start_time": "2023-12-29T20:57:19.634401600Z"
    }
   },
   "id": "34f673885911a617"
  },
  {
   "cell_type": "code",
   "execution_count": 12,
   "outputs": [
    {
     "data": {
      "text/plain": "<tf.Tensor: shape=(), dtype=int32, numpy=96>"
     },
     "execution_count": 12,
     "metadata": {},
     "output_type": "execute_result"
    }
   ],
   "source": [
    "tf.reduce_max(random1)"
   ],
   "metadata": {
    "collapsed": false,
    "ExecuteTime": {
     "end_time": "2023-12-29T20:57:35.331441100Z",
     "start_time": "2023-12-29T20:57:35.318329400Z"
    }
   },
   "id": "cae02a1216e41b4b"
  },
  {
   "cell_type": "code",
   "execution_count": 43,
   "outputs": [
    {
     "data": {
      "text/plain": "<tf.Tensor: shape=(), dtype=int32, numpy=49>"
     },
     "execution_count": 43,
     "metadata": {},
     "output_type": "execute_result"
    }
   ],
   "source": [
    "tf.reduce_mean(random1)"
   ],
   "metadata": {
    "collapsed": false,
    "ExecuteTime": {
     "end_time": "2023-12-29T20:57:51.027037300Z",
     "start_time": "2023-12-29T20:57:51.009553700Z"
    }
   },
   "id": "a3c918bc641e3c14"
  },
  {
   "cell_type": "code",
   "execution_count": 44,
   "outputs": [
    {
     "data": {
      "text/plain": "<tf.Tensor: shape=(), dtype=int32, numpy=2498>"
     },
     "execution_count": 44,
     "metadata": {},
     "output_type": "execute_result"
    }
   ],
   "source": [
    "tf.reduce_sum(random1)"
   ],
   "metadata": {
    "collapsed": false,
    "ExecuteTime": {
     "end_time": "2023-12-29T20:57:58.732771200Z",
     "start_time": "2023-12-29T20:57:58.686106100Z"
    }
   },
   "id": "bd78cc33b75f9773"
  },
  {
   "cell_type": "code",
   "execution_count": 125,
   "outputs": [
    {
     "data": {
      "text/plain": "<tf.Tensor: shape=(), dtype=float64, numpy=844.08>"
     },
     "execution_count": 125,
     "metadata": {},
     "output_type": "execute_result"
    }
   ],
   "source": [
    "mean_random1 = tf.reduce_mean(random1)\n",
    "variance = tf.reduce_sum((random1 - mean_random1) * (random1 - mean_random1))/50\n",
    "variance"
   ],
   "metadata": {
    "collapsed": false,
    "ExecuteTime": {
     "end_time": "2023-12-29T21:12:14.595168100Z",
     "start_time": "2023-12-29T21:12:14.579080800Z"
    }
   },
   "id": "7849b29347b32bb"
  },
  {
   "cell_type": "code",
   "execution_count": 129,
   "outputs": [
    {
     "data": {
      "text/plain": "29.053054916824152"
     },
     "execution_count": 129,
     "metadata": {},
     "output_type": "execute_result"
    }
   ],
   "source": [
    "import math\n",
    "standard_dev = math.sqrt(variance)\n",
    "standard_dev"
   ],
   "metadata": {
    "collapsed": false,
    "ExecuteTime": {
     "end_time": "2023-12-29T21:12:17.022028300Z",
     "start_time": "2023-12-29T21:12:17.008736400Z"
    }
   },
   "id": "af513b1bea780015"
  },
  {
   "cell_type": "code",
   "execution_count": 110,
   "outputs": [
    {
     "data": {
      "text/plain": "<tf.Tensor: shape=(), dtype=float32, numpy=29.037191>"
     },
     "execution_count": 110,
     "metadata": {},
     "output_type": "execute_result"
    }
   ],
   "source": [
    "tf.math.reduce_std(tf.cast(random1, dtype=tf.float32))"
   ],
   "metadata": {
    "collapsed": false,
    "ExecuteTime": {
     "end_time": "2023-12-29T21:10:22.115083300Z",
     "start_time": "2023-12-29T21:10:22.101791600Z"
    }
   },
   "id": "980576cdcf7d5a13"
  },
  {
   "cell_type": "code",
   "execution_count": 117,
   "outputs": [
    {
     "data": {
      "text/plain": "<tf.Tensor: shape=(), dtype=float32, numpy=843.15845>"
     },
     "execution_count": 117,
     "metadata": {},
     "output_type": "execute_result"
    }
   ],
   "source": [
    "tf.math.reduce_variance(tf.cast(random1, dtype=tf.float32))"
   ],
   "metadata": {
    "collapsed": false,
    "ExecuteTime": {
     "end_time": "2023-12-29T21:12:10.188115400Z",
     "start_time": "2023-12-29T21:12:10.177907600Z"
    }
   },
   "id": "d0066a47cc7fd7ed"
  },
  {
   "cell_type": "code",
   "execution_count": 150,
   "outputs": [
    {
     "data": {
      "text/plain": "<tf.Tensor: shape=(), dtype=int32, numpy=96>"
     },
     "execution_count": 150,
     "metadata": {},
     "output_type": "execute_result"
    }
   ],
   "source": [
    "random1[tf.argmax(random1)]"
   ],
   "metadata": {
    "collapsed": false,
    "ExecuteTime": {
     "end_time": "2023-12-29T21:16:15.361620100Z",
     "start_time": "2023-12-29T21:16:15.346465300Z"
    }
   },
   "id": "481f24bdd9ff2956"
  },
  {
   "cell_type": "code",
   "execution_count": 162,
   "outputs": [
    {
     "data": {
      "text/plain": "<tf.Tensor: shape=(), dtype=int32, numpy=3>"
     },
     "execution_count": 162,
     "metadata": {},
     "output_type": "execute_result"
    }
   ],
   "source": [
    "random1[tf.argmin(random1)]"
   ],
   "metadata": {
    "collapsed": false,
    "ExecuteTime": {
     "end_time": "2023-12-29T21:17:39.344075200Z",
     "start_time": "2023-12-29T21:17:39.331818200Z"
    }
   },
   "id": "d0444aa9ee813c19"
  },
  {
   "cell_type": "code",
   "execution_count": 163,
   "outputs": [
    {
     "data": {
      "text/plain": "<tf.Tensor: shape=(1, 1, 1, 50), dtype=float32, numpy=\narray([[[[0.0832541 , 0.99248636, 0.82938504, 0.08254564, 0.34353828,\n          0.9793204 , 0.40720654, 0.0583508 , 0.43135   , 0.5283692 ,\n          0.6364182 , 0.5932324 , 0.40133286, 0.22207582, 0.9583082 ,\n          0.759742  , 0.600194  , 0.56783664, 0.6570866 , 0.025051  ,\n          0.7066394 , 0.33194077, 0.56987965, 0.22102642, 0.7593223 ,\n          0.7941127 , 0.09434187, 0.52985823, 0.42190957, 0.3904456 ,\n          0.03767717, 0.19537008, 0.6503105 , 0.53545094, 0.50305116,\n          0.94039905, 0.8053868 , 0.96903086, 0.8989762 , 0.41862512,\n          0.9306295 , 0.25466585, 0.42837965, 0.47199476, 0.68350816,\n          0.7476344 , 0.23509991, 0.9566351 , 0.15027404, 0.05724108]]]],\n      dtype=float32)>"
     },
     "execution_count": 163,
     "metadata": {},
     "output_type": "execute_result"
    }
   ],
   "source": [
    "#Sqeeze tensor\n",
    "\n",
    "tensorZ = tf.constant(tf.random.uniform(shape=[50]), shape=(1, 1, 1,50))\n",
    "tensorZ"
   ],
   "metadata": {
    "collapsed": false,
    "ExecuteTime": {
     "end_time": "2023-12-29T21:18:56.572963400Z",
     "start_time": "2023-12-29T21:18:56.525307700Z"
    }
   },
   "id": "3b8a34f2300ec42"
  },
  {
   "cell_type": "code",
   "execution_count": 165,
   "outputs": [
    {
     "data": {
      "text/plain": "TensorShape([1, 1, 1, 50])"
     },
     "execution_count": 165,
     "metadata": {},
     "output_type": "execute_result"
    }
   ],
   "source": [
    "tensorZ.shape"
   ],
   "metadata": {
    "collapsed": false,
    "ExecuteTime": {
     "end_time": "2023-12-29T21:19:18.412030500Z",
     "start_time": "2023-12-29T21:19:18.399983800Z"
    }
   },
   "id": "ddd8f871f75dbdf8"
  },
  {
   "cell_type": "code",
   "execution_count": 166,
   "outputs": [
    {
     "data": {
      "text/plain": "<tf.Tensor: shape=(50,), dtype=float32, numpy=\narray([0.0832541 , 0.99248636, 0.82938504, 0.08254564, 0.34353828,\n       0.9793204 , 0.40720654, 0.0583508 , 0.43135   , 0.5283692 ,\n       0.6364182 , 0.5932324 , 0.40133286, 0.22207582, 0.9583082 ,\n       0.759742  , 0.600194  , 0.56783664, 0.6570866 , 0.025051  ,\n       0.7066394 , 0.33194077, 0.56987965, 0.22102642, 0.7593223 ,\n       0.7941127 , 0.09434187, 0.52985823, 0.42190957, 0.3904456 ,\n       0.03767717, 0.19537008, 0.6503105 , 0.53545094, 0.50305116,\n       0.94039905, 0.8053868 , 0.96903086, 0.8989762 , 0.41862512,\n       0.9306295 , 0.25466585, 0.42837965, 0.47199476, 0.68350816,\n       0.7476344 , 0.23509991, 0.9566351 , 0.15027404, 0.05724108],\n      dtype=float32)>"
     },
     "execution_count": 166,
     "metadata": {},
     "output_type": "execute_result"
    }
   ],
   "source": [
    "tf.squeeze(tensorZ)"
   ],
   "metadata": {
    "collapsed": false,
    "ExecuteTime": {
     "end_time": "2023-12-29T21:19:32.479808Z",
     "start_time": "2023-12-29T21:19:32.463581900Z"
    }
   },
   "id": "1fca568090445e1a"
  },
  {
   "cell_type": "code",
   "execution_count": 172,
   "outputs": [
    {
     "data": {
      "text/plain": "<tf.Tensor: shape=(6, 6), dtype=string, numpy=\narray([[b'Dead', b'Alive', b'Alive', b'Alive', b'Alive', b'Alive'],\n       [b'Alive', b'Dead', b'Alive', b'Alive', b'Alive', b'Alive'],\n       [b'Alive', b'Alive', b'Dead', b'Alive', b'Alive', b'Alive'],\n       [b'Alive', b'Alive', b'Alive', b'Dead', b'Alive', b'Alive'],\n       [b'Alive', b'Alive', b'Alive', b'Alive', b'Dead', b'Alive'],\n       [b'Alive', b'Alive', b'Alive', b'Alive', b'Alive', b'Dead']],\n      dtype=object)>"
     },
     "execution_count": 172,
     "metadata": {},
     "output_type": "execute_result"
    }
   ],
   "source": [
    "#ONE HOT ENCODING\n",
    "lists = [0, 1, 2, 3, 4, 5]\n",
    "tf.one_hot(lists, 6, on_value=\"Dead\", off_value=\"Alive\")"
   ],
   "metadata": {
    "collapsed": false,
    "ExecuteTime": {
     "end_time": "2023-12-29T21:23:27.824271200Z",
     "start_time": "2023-12-29T21:23:27.784258700Z"
    }
   },
   "id": "1ffc7786b8a66039"
  },
  {
   "cell_type": "code",
   "execution_count": 173,
   "outputs": [
    {
     "data": {
      "text/plain": "<tf.Tensor: shape=(50,), dtype=int32, numpy=\narray([4624, 5184, 9025,  196, 1600,  729, 1089, 3481, 2500,   36, 7225,\n       7056,   49, 1225, 8464,    9, 1849, 1849, 6400, 4624,  784, 9025,\n        100,  576,   36, 6241, 1296, 6561, 8281,    9, 8281,  961, 2401,\n       3249, 9216, 1369, 2304, 2809,  324,  324, 1089, 4761, 1521, 9216,\n        625,  676, 4356, 2116, 8836, 2401])>"
     },
     "execution_count": 173,
     "metadata": {},
     "output_type": "execute_result"
    }
   ],
   "source": [
    "tf.square(random1)"
   ],
   "metadata": {
    "collapsed": false,
    "ExecuteTime": {
     "end_time": "2023-12-29T21:24:37.921231700Z",
     "start_time": "2023-12-29T21:24:37.875276200Z"
    }
   },
   "id": "ff9d6ae9c07b985c"
  }
 ],
 "metadata": {
  "kernelspec": {
   "display_name": "Python 3",
   "language": "python",
   "name": "python3"
  },
  "language_info": {
   "codemirror_mode": {
    "name": "ipython",
    "version": 2
   },
   "file_extension": ".py",
   "mimetype": "text/x-python",
   "name": "python",
   "nbconvert_exporter": "python",
   "pygments_lexer": "ipython2",
   "version": "2.7.6"
  }
 },
 "nbformat": 4,
 "nbformat_minor": 5
}
